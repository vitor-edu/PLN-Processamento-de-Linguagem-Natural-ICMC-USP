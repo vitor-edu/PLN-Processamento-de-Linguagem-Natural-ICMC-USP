{
  "nbformat": 4,
  "nbformat_minor": 0,
  "metadata": {
    "colab": {
      "name": "Aula 1 - comando de Python - PLN.ipynb",
      "provenance": [],
      "authorship_tag": "ABX9TyMJuUysG1/Q1YN9x3Zfi9xB",
      "include_colab_link": true
    },
    "kernelspec": {
      "name": "python3",
      "display_name": "Python 3"
    }
  },
  "cells": [
    {
      "cell_type": "markdown",
      "metadata": {
        "id": "view-in-github",
        "colab_type": "text"
      },
      "source": [
        "<a href=\"https://colab.research.google.com/github/vitor-edu/Python-para-Processamento-de-Linguagem-Natural-ICMC-USP/blob/main/Aula_1_comando_de_Python_PLN.ipynb\" target=\"_parent\"><img src=\"https://colab.research.google.com/assets/colab-badge.svg\" alt=\"Open In Colab\"/></a>"
      ]
    },
    {
      "cell_type": "code",
      "metadata": {
        "colab": {
          "base_uri": "https://localhost:8080/",
          "height": 35
        },
        "id": "ux_Pk943gpsL",
        "outputId": "1bf745ce-5fe4-488e-90de-d2ed9d6dde12"
      },
      "source": [
        "'testando'+'colaba'\n"
      ],
      "execution_count": 3,
      "outputs": [
        {
          "output_type": "execute_result",
          "data": {
            "application/vnd.google.colaboratory.intrinsic+json": {
              "type": "string"
            },
            "text/plain": [
              "'testandocolaba'"
            ]
          },
          "metadata": {
            "tags": []
          },
          "execution_count": 3
        }
      ]
    }
  ]
}