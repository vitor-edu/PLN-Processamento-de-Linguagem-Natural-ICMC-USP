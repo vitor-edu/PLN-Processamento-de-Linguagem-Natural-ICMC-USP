{
  "nbformat": 4,
  "nbformat_minor": 0,
  "metadata": {
    "colab": {
      "name": "Tuplas - dicionário.ipynb",
      "provenance": [],
      "collapsed_sections": [],
      "authorship_tag": "ABX9TyNi6BdJSN3XU4r3ZP/YJ6v9",
      "include_colab_link": true
    },
    "kernelspec": {
      "name": "python3",
      "display_name": "Python 3"
    },
    "language_info": {
      "name": "python"
    }
  },
  "cells": [
    {
      "cell_type": "markdown",
      "metadata": {
        "id": "view-in-github",
        "colab_type": "text"
      },
      "source": [
        "<a href=\"https://colab.research.google.com/github/vitor-edu/Python-para-Processamento-de-Linguagem-Natural-ICMC-USP/blob/main/Tuplas_dicion%C3%A1rio.ipynb\" target=\"_parent\"><img src=\"https://colab.research.google.com/assets/colab-badge.svg\" alt=\"Open In Colab\"/></a>"
      ]
    },
    {
      "cell_type": "code",
      "metadata": {
        "id": "LWbrqfN67UvM"
      },
      "source": [
        "tupla = (32, 'vitor', 34, 'testando tupla', 45, 'abc', 33)"
      ],
      "execution_count": 1,
      "outputs": []
    },
    {
      "cell_type": "code",
      "metadata": {
        "colab": {
          "base_uri": "https://localhost:8080/"
        },
        "id": "lQUdMC2qy13W",
        "outputId": "e9a24f75-0c57-4a04-9a85-8939ddd0b2c4"
      },
      "source": [
        "tupla"
      ],
      "execution_count": 2,
      "outputs": [
        {
          "output_type": "execute_result",
          "data": {
            "text/plain": [
              "(32, 'vitor', 34, 'testando tupla', 45, 'abc', 33)"
            ]
          },
          "metadata": {
            "tags": []
          },
          "execution_count": 2
        }
      ]
    },
    {
      "cell_type": "code",
      "metadata": {
        "colab": {
          "base_uri": "https://localhost:8080/",
          "height": 35
        },
        "id": "WEEuITJ4zDdW",
        "outputId": "c2518f8b-b44e-45fe-eab2-b5e4b151b1ae"
      },
      "source": [
        "tupla[1]"
      ],
      "execution_count": 3,
      "outputs": [
        {
          "output_type": "execute_result",
          "data": {
            "application/vnd.google.colaboratory.intrinsic+json": {
              "type": "string"
            },
            "text/plain": [
              "'vitor'"
            ]
          },
          "metadata": {
            "tags": []
          },
          "execution_count": 3
        }
      ]
    },
    {
      "cell_type": "markdown",
      "metadata": {
        "id": "f4qn1ujE8HLo"
      },
      "source": [
        "dicionario"
      ]
    },
    {
      "cell_type": "code",
      "metadata": {
        "id": "x4ROvL8uzHux"
      },
      "source": [
        "dic = {}\n",
        "dic['chave1']= 'valor'\n",
        "dic['chave2']= 2\n",
        "dic[3]= 'tres'"
      ],
      "execution_count": 11,
      "outputs": []
    },
    {
      "cell_type": "code",
      "metadata": {
        "colab": {
          "base_uri": "https://localhost:8080/"
        },
        "id": "Yk7iMfZg8wu_",
        "outputId": "ffa31a59-d1cf-4663-ab5e-df20d13861f5"
      },
      "source": [
        "dic"
      ],
      "execution_count": 12,
      "outputs": [
        {
          "output_type": "execute_result",
          "data": {
            "text/plain": [
              "{3: 'tres', 'chave1': 'valor', 'chave2': 2}"
            ]
          },
          "metadata": {
            "tags": []
          },
          "execution_count": 12
        }
      ]
    },
    {
      "cell_type": "code",
      "metadata": {
        "id": "9jNvEJ3i9C_9"
      },
      "source": [
        "dic['aula'] = [0,1,2,3,4]"
      ],
      "execution_count": 13,
      "outputs": []
    },
    {
      "cell_type": "code",
      "metadata": {
        "colab": {
          "base_uri": "https://localhost:8080/"
        },
        "id": "Rt6h4SWU9PyQ",
        "outputId": "913a409b-e187-4464-f1ee-3242f31be039"
      },
      "source": [
        "dic"
      ],
      "execution_count": 14,
      "outputs": [
        {
          "output_type": "execute_result",
          "data": {
            "text/plain": [
              "{3: 'tres', 'aula': [0, 1, 2, 3, 4], 'chave1': 'valor', 'chave2': 2}"
            ]
          },
          "metadata": {
            "tags": []
          },
          "execution_count": 14
        }
      ]
    },
    {
      "cell_type": "markdown",
      "metadata": {
        "id": "BUwS7w7S_fLa"
      },
      "source": [
        "percorrendo o dicionario"
      ]
    },
    {
      "cell_type": "code",
      "metadata": {
        "colab": {
          "base_uri": "https://localhost:8080/"
        },
        "id": "35uqJ3qt_hnc",
        "outputId": "458c328e-435c-4d5b-d56c-f4f639068bb9"
      },
      "source": [
        "dic.keys() # retorna a lista com todas as chaves"
      ],
      "execution_count": 16,
      "outputs": [
        {
          "output_type": "execute_result",
          "data": {
            "text/plain": [
              "dict_keys(['chave1', 'chave2', 3, 'aula'])"
            ]
          },
          "metadata": {
            "tags": []
          },
          "execution_count": 16
        }
      ]
    },
    {
      "cell_type": "code",
      "metadata": {
        "colab": {
          "base_uri": "https://localhost:8080/"
        },
        "id": "stHS6tdM_-6e",
        "outputId": "04714934-1af6-416e-d607-a94ba3278e41"
      },
      "source": [
        "dic.values() #retorna a lista com todos os valores"
      ],
      "execution_count": 17,
      "outputs": [
        {
          "output_type": "execute_result",
          "data": {
            "text/plain": [
              "dict_values(['valor', 2, 'tres', [0, 1, 2, 3, 4]])"
            ]
          },
          "metadata": {
            "tags": []
          },
          "execution_count": 17
        }
      ]
    },
    {
      "cell_type": "markdown",
      "metadata": {
        "id": "zPb8F_joB7vJ"
      },
      "source": [
        "Sera necessário fazer um cast para manipular os dados "
      ]
    },
    {
      "cell_type": "code",
      "metadata": {
        "colab": {
          "base_uri": "https://localhost:8080/"
        },
        "id": "zjKBvLSOAsGJ",
        "outputId": "f0218802-e65d-4dbd-f8f5-2c6031d18842"
      },
      "source": [
        "list(dic.keys()) #  fazendo cast de forma explicita"
      ],
      "execution_count": 18,
      "outputs": [
        {
          "output_type": "execute_result",
          "data": {
            "text/plain": [
              "['chave1', 'chave2', 3, 'aula']"
            ]
          },
          "metadata": {
            "tags": []
          },
          "execution_count": 18
        }
      ]
    },
    {
      "cell_type": "code",
      "metadata": {
        "colab": {
          "base_uri": "https://localhost:8080/"
        },
        "id": "c0vs0LuHBMxz",
        "outputId": "2ae2995e-94af-4bf3-81ab-492103570fe2"
      },
      "source": [
        "list(dic.items()) # trazer todos os itens do dicionário usando o comando items. "
      ],
      "execution_count": 19,
      "outputs": [
        {
          "output_type": "execute_result",
          "data": {
            "text/plain": [
              "[('chave1', 'valor'), ('chave2', 2), (3, 'tres'), ('aula', [0, 1, 2, 3, 4])]"
            ]
          },
          "metadata": {
            "tags": []
          },
          "execution_count": 19
        }
      ]
    },
    {
      "cell_type": "code",
      "metadata": {
        "colab": {
          "base_uri": "https://localhost:8080/"
        },
        "id": "6RJravA4Bfec",
        "outputId": "2136369a-6583-4f2b-c02e-eafe08ab9331"
      },
      "source": [
        "dic"
      ],
      "execution_count": 21,
      "outputs": [
        {
          "output_type": "execute_result",
          "data": {
            "text/plain": [
              "{3: 'tres', 'aula': [0, 1, 2, 3, 4], 'chave1': 'valor', 'chave2': 2}"
            ]
          },
          "metadata": {
            "tags": []
          },
          "execution_count": 21
        }
      ]
    },
    {
      "cell_type": "markdown",
      "metadata": {
        "id": "ldCVDOhjCUqF"
      },
      "source": [
        "fazendo uma interação dentro do dicionário"
      ]
    },
    {
      "cell_type": "code",
      "metadata": {
        "colab": {
          "base_uri": "https://localhost:8080/"
        },
        "id": "60KPtTc8CbTp",
        "outputId": "f9ed6b67-85b9-4c80-dc8c-40547a260189"
      },
      "source": [
        "for key, val in dic.items(): # utilizando um for para apresentar toda a lista de chaves e valores         \n",
        "  print(key, 'temos o valoor', val)"
      ],
      "execution_count": 22,
      "outputs": [
        {
          "output_type": "stream",
          "text": [
            "chave1 temos o valoor valor\n",
            "chave2 temos o valoor 2\n",
            "3 temos o valoor tres\n",
            "aula temos o valoor [0, 1, 2, 3, 4]\n"
          ],
          "name": "stdout"
        }
      ]
    },
    {
      "cell_type": "code",
      "metadata": {
        "id": "eQYFAvh_J0B7"
      },
      "source": [
        ""
      ],
      "execution_count": null,
      "outputs": []
    }
  ]
}