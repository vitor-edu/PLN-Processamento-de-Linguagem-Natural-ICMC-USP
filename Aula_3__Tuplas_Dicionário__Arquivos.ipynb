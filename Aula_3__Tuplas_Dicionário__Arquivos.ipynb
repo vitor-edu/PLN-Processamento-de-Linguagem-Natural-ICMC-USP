{
  "nbformat": 4,
  "nbformat_minor": 0,
  "metadata": {
    "colab": {
      "name": "Aula_3_ Tuplas_Dicionário _Arquivos.ipynb",
      "provenance": [],
      "collapsed_sections": [],
      "authorship_tag": "ABX9TyM+d4jznd0u33vEVjhdsbGz",
      "include_colab_link": true
    },
    "kernelspec": {
      "name": "python3",
      "display_name": "Python 3"
    },
    "language_info": {
      "name": "python"
    }
  },
  "cells": [
    {
      "cell_type": "markdown",
      "metadata": {
        "id": "view-in-github",
        "colab_type": "text"
      },
      "source": [
        "<a href=\"https://colab.research.google.com/github/vitor-edu/Python-para-Processamento-de-Linguagem-Natural-ICMC-USP/blob/main/Aula_3__Tuplas_Dicion%C3%A1rio__Arquivos.ipynb\" target=\"_parent\"><img src=\"https://colab.research.google.com/assets/colab-badge.svg\" alt=\"Open In Colab\"/></a>"
      ]
    },
    {
      "cell_type": "markdown",
      "metadata": {
        "id": "xhkge1R2TUUy"
      },
      "source": [
        "Tupla"
      ]
    },
    {
      "cell_type": "code",
      "metadata": {
        "id": "qwEnzoEDR2RD"
      },
      "source": [
        "tupla = (32, 'vitor', 34, 'testando tupla', 45, 'abc', 33) # criando uma tupla com tipos diferentes"
      ],
      "execution_count": 1,
      "outputs": []
    },
    {
      "cell_type": "code",
      "metadata": {
        "colab": {
          "base_uri": "https://localhost:8080/"
        },
        "id": "hakR5WaHSkv2",
        "outputId": "d782d30d-ac2c-4bfd-b8d7-f1e209465452"
      },
      "source": [
        "tupla"
      ],
      "execution_count": 2,
      "outputs": [
        {
          "output_type": "execute_result",
          "data": {
            "text/plain": [
              "(32, 'vitor', 34, 'testando tupla', 45, 'abc', 33)"
            ]
          },
          "metadata": {
            "tags": []
          },
          "execution_count": 2
        }
      ]
    },
    {
      "cell_type": "code",
      "metadata": {
        "colab": {
          "base_uri": "https://localhost:8080/",
          "height": 35
        },
        "id": "4yWSYM7RSvg-",
        "outputId": "bed9be0e-8a94-47f6-bb08-aed56fb604ab"
      },
      "source": [
        "tupla[1] # retornando valor na posição 1"
      ],
      "execution_count": 3,
      "outputs": [
        {
          "output_type": "execute_result",
          "data": {
            "application/vnd.google.colaboratory.intrinsic+json": {
              "type": "string"
            },
            "text/plain": [
              "'vitor'"
            ]
          },
          "metadata": {
            "tags": []
          },
          "execution_count": 3
        }
      ]
    },
    {
      "cell_type": "markdown",
      "metadata": {
        "id": "Gq7pCPH6TXVq"
      },
      "source": [
        "Dicionário"
      ]
    },
    {
      "cell_type": "code",
      "metadata": {
        "id": "G4ussNCnTbQA"
      },
      "source": [
        "dic = {} # criando um dicionário vazio"
      ],
      "execution_count": 4,
      "outputs": []
    },
    {
      "cell_type": "code",
      "metadata": {
        "id": "ayTAea5NU4TQ"
      },
      "source": [
        "dic['valo1'] = 'vitor' # atribuindo valor para o dicionário\n",
        "dic['valo2'] = 'monique'\n",
        "dic['valo3'] = 'lais'\n",
        "dic['valo4'] = 'natalha'"
      ],
      "execution_count": 5,
      "outputs": []
    },
    {
      "cell_type": "code",
      "metadata": {
        "colab": {
          "base_uri": "https://localhost:8080/"
        },
        "id": "WfXsN9GEVRMo",
        "outputId": "bef61d8a-ba92-405b-97cd-9556a7c33060"
      },
      "source": [
        "dic"
      ],
      "execution_count": 6,
      "outputs": [
        {
          "output_type": "execute_result",
          "data": {
            "text/plain": [
              "{'valo1': 'vitor', 'valo2': 'monique', 'valo3': 'lais', 'valo4': 'natalha'}"
            ]
          },
          "metadata": {
            "tags": []
          },
          "execution_count": 6
        }
      ]
    },
    {
      "cell_type": "code",
      "metadata": {
        "id": "2tbSdKKuVcYr"
      },
      "source": [
        "dic2 = {} #criando dicionário vazio"
      ],
      "execution_count": 7,
      "outputs": []
    },
    {
      "cell_type": "code",
      "metadata": {
        "id": "oaB9rL-lWX8v"
      },
      "source": [
        "dic2[1] = 332 # atribuindo valores ao dicionário\n",
        "dic2[2] = 553\n",
        "dic2[3] = 345\n",
        "dic2[4] = 346"
      ],
      "execution_count": 8,
      "outputs": []
    },
    {
      "cell_type": "code",
      "metadata": {
        "colab": {
          "base_uri": "https://localhost:8080/"
        },
        "id": "h_IO-MPsWoGL",
        "outputId": "18a770f4-4674-49a7-8b06-4d294c46f3a2"
      },
      "source": [
        "dic2"
      ],
      "execution_count": 9,
      "outputs": [
        {
          "output_type": "execute_result",
          "data": {
            "text/plain": [
              "{1: 332, 2: 553, 3: 345, 4: 346}"
            ]
          },
          "metadata": {
            "tags": []
          },
          "execution_count": 9
        }
      ]
    },
    {
      "cell_type": "code",
      "metadata": {
        "id": "Uw2IbtsAWvWB"
      },
      "source": [
        "dic3 = {} # criando dicionario vazio"
      ],
      "execution_count": 10,
      "outputs": []
    },
    {
      "cell_type": "code",
      "metadata": {
        "id": "ELYUpCMSXCSH"
      },
      "source": [
        "dic3['list1'] = ['vitor','maria','niki','edilson'] #atribuindo um valor tipo lista para o dicionario\n",
        "dic3['list2'] = ['fran','tata','lucas','tureli']\n",
        "dic3['list3'] = ['marcos','naty','jessica','portao']\n",
        "dic3['list4'] = ['lizias','jesus','joarez','mayra']"
      ],
      "execution_count": 11,
      "outputs": []
    },
    {
      "cell_type": "code",
      "metadata": {
        "colab": {
          "base_uri": "https://localhost:8080/"
        },
        "id": "7exvdmxuXyM9",
        "outputId": "22fcc970-6d72-47c4-b8e5-b4cc3485db04"
      },
      "source": [
        "dic3"
      ],
      "execution_count": 12,
      "outputs": [
        {
          "output_type": "execute_result",
          "data": {
            "text/plain": [
              "{'list1': ['vitor', 'maria', 'niki', 'edilson'],\n",
              " 'list2': ['fran', 'tata', 'lucas', 'tureli'],\n",
              " 'list3': ['marcos', 'naty', 'jessica', 'portao'],\n",
              " 'list4': ['lizias', 'jesus', 'joarez', 'mayra']}"
            ]
          },
          "metadata": {
            "tags": []
          },
          "execution_count": 12
        }
      ]
    },
    {
      "cell_type": "code",
      "metadata": {
        "id": "7ndIT3RnbFYL"
      },
      "source": [
        "dic4 = {} # criando um dicionário vazio"
      ],
      "execution_count": 13,
      "outputs": []
    },
    {
      "cell_type": "code",
      "metadata": {
        "id": "_diJciy8bOO2"
      },
      "source": [
        "dic4[11] = [343, 565, 675, 566] #atribuindo um valor tipo lista para o dicionario\n",
        "dic4[22] = [334, 545, 676, 676]\n",
        "dic4[33] = [343, 454, 343, 456]\n",
        "dic4[44] = [787, 676, 876, 787]"
      ],
      "execution_count": 14,
      "outputs": []
    },
    {
      "cell_type": "code",
      "metadata": {
        "colab": {
          "base_uri": "https://localhost:8080/"
        },
        "id": "1_Ogu1gOcNBJ",
        "outputId": "b49fbd3f-3e38-4493-d2de-5de5edcc9c1f"
      },
      "source": [
        "dic4"
      ],
      "execution_count": 15,
      "outputs": [
        {
          "output_type": "execute_result",
          "data": {
            "text/plain": [
              "{11: [343, 565, 675, 566],\n",
              " 22: [334, 545, 676, 676],\n",
              " 33: [343, 454, 343, 456],\n",
              " 44: [787, 676, 876, 787]}"
            ]
          },
          "metadata": {
            "tags": []
          },
          "execution_count": 15
        }
      ]
    },
    {
      "cell_type": "code",
      "metadata": {
        "id": "DKroGINr2Jf_",
        "outputId": "7c5753a9-0f98-40bf-be2e-77406c0402e9",
        "colab": {
          "base_uri": "https://localhost:8080/"
        }
      },
      "source": [
        "dic4.keys() # retorna a lista com todas as chaves"
      ],
      "execution_count": 16,
      "outputs": [
        {
          "output_type": "execute_result",
          "data": {
            "text/plain": [
              "dict_keys([11, 22, 33, 44])"
            ]
          },
          "metadata": {
            "tags": []
          },
          "execution_count": 16
        }
      ]
    },
    {
      "cell_type": "code",
      "metadata": {
        "id": "T4H4mTtn3ndw",
        "outputId": "503425ba-2767-4d85-c05f-323ebce8fe38",
        "colab": {
          "base_uri": "https://localhost:8080/"
        }
      },
      "source": [
        "dic4.values() # #retorna a lista com todos os valores"
      ],
      "execution_count": 17,
      "outputs": [
        {
          "output_type": "execute_result",
          "data": {
            "text/plain": [
              "dict_values([[343, 565, 675, 566], [334, 545, 676, 676], [343, 454, 343, 456], [787, 676, 876, 787]])"
            ]
          },
          "metadata": {
            "tags": []
          },
          "execution_count": 17
        }
      ]
    },
    {
      "cell_type": "code",
      "metadata": {
        "id": "qMGbXDUs3uxo",
        "outputId": "f652f898-a37d-4b53-c5ea-37818350e006",
        "colab": {
          "base_uri": "https://localhost:8080/"
        }
      },
      "source": [
        "type(dic4.keys()) #tipo dos dados "
      ],
      "execution_count": 18,
      "outputs": [
        {
          "output_type": "execute_result",
          "data": {
            "text/plain": [
              "dict_keys"
            ]
          },
          "metadata": {
            "tags": []
          },
          "execution_count": 18
        }
      ]
    },
    {
      "cell_type": "code",
      "metadata": {
        "id": "bSD6srX8CI4C"
      },
      "source": [
        ""
      ],
      "execution_count": null,
      "outputs": []
    }
  ]
}