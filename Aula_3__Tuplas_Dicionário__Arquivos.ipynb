{
  "nbformat": 4,
  "nbformat_minor": 0,
  "metadata": {
    "colab": {
      "name": "Aula_3_ Tuplas_Dicionário _Arquivos.ipynb",
      "provenance": [],
      "collapsed_sections": [],
      "authorship_tag": "ABX9TyOb9IGYxzkRxRSd19K+t/Kn",
      "include_colab_link": true
    },
    "kernelspec": {
      "name": "python3",
      "display_name": "Python 3"
    },
    "language_info": {
      "name": "python"
    }
  },
  "cells": [
    {
      "cell_type": "markdown",
      "metadata": {
        "id": "view-in-github",
        "colab_type": "text"
      },
      "source": [
        "<a href=\"https://colab.research.google.com/github/vitor-edu/Python-para-Processamento-de-Linguagem-Natural-ICMC-USP/blob/main/Aula_3__Tuplas_Dicion%C3%A1rio__Arquivos.ipynb\" target=\"_parent\"><img src=\"https://colab.research.google.com/assets/colab-badge.svg\" alt=\"Open In Colab\"/></a>"
      ]
    },
    {
      "cell_type": "markdown",
      "metadata": {
        "id": "xhkge1R2TUUy"
      },
      "source": [
        "Tupla"
      ]
    },
    {
      "cell_type": "code",
      "metadata": {
        "id": "qwEnzoEDR2RD"
      },
      "source": [
        "tupla = (32, 'vitor', 34, 'testando tupla', 45, 'abc', 33) # criando uma tupla com tipos diferentes"
      ],
      "execution_count": 19,
      "outputs": []
    },
    {
      "cell_type": "code",
      "metadata": {
        "colab": {
          "base_uri": "https://localhost:8080/"
        },
        "id": "hakR5WaHSkv2",
        "outputId": "17cf6a07-d97f-4660-97bc-cb0cb8e8d901"
      },
      "source": [
        "tupla"
      ],
      "execution_count": 20,
      "outputs": [
        {
          "output_type": "execute_result",
          "data": {
            "text/plain": [
              "(32, 'vitor', 34, 'testando tupla', 45, 'abc', 33)"
            ]
          },
          "metadata": {
            "tags": []
          },
          "execution_count": 20
        }
      ]
    },
    {
      "cell_type": "code",
      "metadata": {
        "colab": {
          "base_uri": "https://localhost:8080/",
          "height": 35
        },
        "id": "4yWSYM7RSvg-",
        "outputId": "4b8bfd10-b005-4546-ee18-906904696c64"
      },
      "source": [
        "tupla[1] # retornando valor na posição 1"
      ],
      "execution_count": 21,
      "outputs": [
        {
          "output_type": "execute_result",
          "data": {
            "application/vnd.google.colaboratory.intrinsic+json": {
              "type": "string"
            },
            "text/plain": [
              "'vitor'"
            ]
          },
          "metadata": {
            "tags": []
          },
          "execution_count": 21
        }
      ]
    },
    {
      "cell_type": "markdown",
      "metadata": {
        "id": "Gq7pCPH6TXVq"
      },
      "source": [
        "Dicionário"
      ]
    },
    {
      "cell_type": "code",
      "metadata": {
        "id": "G4ussNCnTbQA"
      },
      "source": [
        "dic = {} # criando um dicionário vazio"
      ],
      "execution_count": 22,
      "outputs": []
    },
    {
      "cell_type": "code",
      "metadata": {
        "id": "ayTAea5NU4TQ"
      },
      "source": [
        "dic['valo1'] = 'vitor' # atribuindo valor para o dicionário\n",
        "dic['valo2'] = 'monique'\n",
        "dic['valo3'] = 'lais'\n",
        "dic['valo4'] = 'natalha'"
      ],
      "execution_count": 23,
      "outputs": []
    },
    {
      "cell_type": "code",
      "metadata": {
        "colab": {
          "base_uri": "https://localhost:8080/"
        },
        "id": "WfXsN9GEVRMo",
        "outputId": "23f94461-ce79-4a0c-f47b-68c7565d611b"
      },
      "source": [
        "dic"
      ],
      "execution_count": 24,
      "outputs": [
        {
          "output_type": "execute_result",
          "data": {
            "text/plain": [
              "{'valo1': 'vitor', 'valo2': 'monique', 'valo3': 'lais', 'valo4': 'natalha'}"
            ]
          },
          "metadata": {
            "tags": []
          },
          "execution_count": 24
        }
      ]
    },
    {
      "cell_type": "code",
      "metadata": {
        "id": "2tbSdKKuVcYr"
      },
      "source": [
        "dic2 = {} #criando dicionário vazio"
      ],
      "execution_count": 25,
      "outputs": []
    },
    {
      "cell_type": "code",
      "metadata": {
        "id": "oaB9rL-lWX8v"
      },
      "source": [
        "dic2[1] = 332 # atribuindo valores ao dicionário\n",
        "dic2[2] = 553\n",
        "dic2[3] = 345\n",
        "dic2[4] = 346"
      ],
      "execution_count": 26,
      "outputs": []
    },
    {
      "cell_type": "code",
      "metadata": {
        "colab": {
          "base_uri": "https://localhost:8080/"
        },
        "id": "h_IO-MPsWoGL",
        "outputId": "ac4d0c47-1a03-4d57-8fb0-9b2c1bc15bae"
      },
      "source": [
        "dic2"
      ],
      "execution_count": 27,
      "outputs": [
        {
          "output_type": "execute_result",
          "data": {
            "text/plain": [
              "{1: 332, 2: 553, 3: 345, 4: 346}"
            ]
          },
          "metadata": {
            "tags": []
          },
          "execution_count": 27
        }
      ]
    },
    {
      "cell_type": "code",
      "metadata": {
        "id": "Uw2IbtsAWvWB"
      },
      "source": [
        "dic3 = {} # criando dicionario vazio"
      ],
      "execution_count": 28,
      "outputs": []
    },
    {
      "cell_type": "code",
      "metadata": {
        "id": "ELYUpCMSXCSH"
      },
      "source": [
        "dic3['list1'] = ['vitor','maria','niki','edilson'] #atribuindo um valor tipo lista para o dicionario\n",
        "dic3['list2'] = ['fran','tata','lucas','tureli']\n",
        "dic3['list3'] = ['marcos','naty','jessica','portao']\n",
        "dic3['list4'] = ['lizias','jesus','joarez','mayra']"
      ],
      "execution_count": 29,
      "outputs": []
    },
    {
      "cell_type": "code",
      "metadata": {
        "colab": {
          "base_uri": "https://localhost:8080/"
        },
        "id": "7exvdmxuXyM9",
        "outputId": "e1c9438d-b2bb-47c3-b7df-60e400ab4a1f"
      },
      "source": [
        "dic3"
      ],
      "execution_count": 30,
      "outputs": [
        {
          "output_type": "execute_result",
          "data": {
            "text/plain": [
              "{'list1': ['vitor', 'maria', 'niki', 'edilson'],\n",
              " 'list2': ['fran', 'tata', 'lucas', 'tureli'],\n",
              " 'list3': ['marcos', 'naty', 'jessica', 'portao'],\n",
              " 'list4': ['lizias', 'jesus', 'joarez', 'mayra']}"
            ]
          },
          "metadata": {
            "tags": []
          },
          "execution_count": 30
        }
      ]
    },
    {
      "cell_type": "code",
      "metadata": {
        "id": "7ndIT3RnbFYL"
      },
      "source": [
        "dic4 = {} # criando um dicionário vazio"
      ],
      "execution_count": 31,
      "outputs": []
    },
    {
      "cell_type": "code",
      "metadata": {
        "id": "_diJciy8bOO2"
      },
      "source": [
        "dic4[11] = [343, 565, 675, 566] #atribuindo um valor tipo lista para o dicionario\n",
        "dic4[22] = [334, 545, 676, 676]\n",
        "dic4[33] = [343, 454, 343, 456]\n",
        "dic4[44] = [787, 676, 876, 787]"
      ],
      "execution_count": 32,
      "outputs": []
    },
    {
      "cell_type": "code",
      "metadata": {
        "colab": {
          "base_uri": "https://localhost:8080/"
        },
        "id": "1_Ogu1gOcNBJ",
        "outputId": "35d7ee3f-0a65-4c83-9fa1-296a215ffa2c"
      },
      "source": [
        "dic4"
      ],
      "execution_count": 33,
      "outputs": [
        {
          "output_type": "execute_result",
          "data": {
            "text/plain": [
              "{11: [343, 565, 675, 566],\n",
              " 22: [334, 545, 676, 676],\n",
              " 33: [343, 454, 343, 456],\n",
              " 44: [787, 676, 876, 787]}"
            ]
          },
          "metadata": {
            "tags": []
          },
          "execution_count": 33
        }
      ]
    },
    {
      "cell_type": "code",
      "metadata": {
        "id": "DKroGINr2Jf_",
        "colab": {
          "base_uri": "https://localhost:8080/"
        },
        "outputId": "d14a247a-cd9e-4329-ec46-c7d646125b64"
      },
      "source": [
        "dic4.keys() # retorna a lista com todas as chaves"
      ],
      "execution_count": 34,
      "outputs": [
        {
          "output_type": "execute_result",
          "data": {
            "text/plain": [
              "dict_keys([11, 22, 33, 44])"
            ]
          },
          "metadata": {
            "tags": []
          },
          "execution_count": 34
        }
      ]
    },
    {
      "cell_type": "code",
      "metadata": {
        "id": "T4H4mTtn3ndw",
        "colab": {
          "base_uri": "https://localhost:8080/"
        },
        "outputId": "39b257d9-b62a-405f-be9d-6bf7ca20d038"
      },
      "source": [
        "dic4.values() # #retorna a lista com todos os valores"
      ],
      "execution_count": 35,
      "outputs": [
        {
          "output_type": "execute_result",
          "data": {
            "text/plain": [
              "dict_values([[343, 565, 675, 566], [334, 545, 676, 676], [343, 454, 343, 456], [787, 676, 876, 787]])"
            ]
          },
          "metadata": {
            "tags": []
          },
          "execution_count": 35
        }
      ]
    },
    {
      "cell_type": "code",
      "metadata": {
        "id": "qMGbXDUs3uxo",
        "colab": {
          "base_uri": "https://localhost:8080/"
        },
        "outputId": "8a881e8e-3994-4bf7-e38b-ab38015fb23b"
      },
      "source": [
        "type(dic4.keys()) #tipo dos dados "
      ],
      "execution_count": 36,
      "outputs": [
        {
          "output_type": "execute_result",
          "data": {
            "text/plain": [
              "dict_keys"
            ]
          },
          "metadata": {
            "tags": []
          },
          "execution_count": 36
        }
      ]
    },
    {
      "cell_type": "code",
      "metadata": {
        "id": "tNjpd2b_DAA-"
      },
      "source": [
        "list(dic) # fazendo um cast mudando de dicionario para lista retornando chave e valor"
      ],
      "execution_count": null,
      "outputs": []
    },
    {
      "cell_type": "code",
      "metadata": {
        "id": "sJgnGhX0EOYQ"
      },
      "source": [
        "z = {}"
      ],
      "execution_count": 40,
      "outputs": []
    },
    {
      "cell_type": "code",
      "metadata": {
        "id": "_4d0oRzVEiiY"
      },
      "source": [
        "y = {}"
      ],
      "execution_count": 41,
      "outputs": []
    },
    {
      "cell_type": "code",
      "metadata": {
        "id": "H9VoOxXiEk1H"
      },
      "source": [
        "z['num1'] = 1\n",
        "z['num2'] = 2"
      ],
      "execution_count": 42,
      "outputs": []
    },
    {
      "cell_type": "code",
      "metadata": {
        "id": "K63MsOFREzmA",
        "outputId": "7ad35998-1e04-4735-eab9-bf11de6439da",
        "colab": {
          "base_uri": "https://localhost:8080/"
        }
      },
      "source": [
        "z"
      ],
      "execution_count": 43,
      "outputs": [
        {
          "output_type": "execute_result",
          "data": {
            "text/plain": [
              "{'num1': 1, 'num2': 2}"
            ]
          },
          "metadata": {
            "tags": []
          },
          "execution_count": 43
        }
      ]
    },
    {
      "cell_type": "code",
      "metadata": {
        "id": "ej4aRmybE1bA"
      },
      "source": [
        "y['num3'] = 3\n",
        "y['num4'] = 4"
      ],
      "execution_count": 44,
      "outputs": []
    },
    {
      "cell_type": "code",
      "metadata": {
        "id": "nTWbX-nzF0bg"
      },
      "source": [
        "f = {}"
      ],
      "execution_count": 55,
      "outputs": []
    },
    {
      "cell_type": "code",
      "metadata": {
        "id": "yeKWdb74F3nG",
        "outputId": "1d3d720b-b2cc-4c24-f2fa-c56e0290ce43",
        "colab": {
          "base_uri": "https://localhost:8080/"
        }
      },
      "source": [
        "f['num5'] = 5\n",
        "f['num6'] = 6\n",
        "f"
      ],
      "execution_count": 57,
      "outputs": [
        {
          "output_type": "execute_result",
          "data": {
            "text/plain": [
              "{'num5': 5, 'num6': 6}"
            ]
          },
          "metadata": {
            "tags": []
          },
          "execution_count": 57
        }
      ]
    },
    {
      "cell_type": "code",
      "metadata": {
        "id": "bZk5LOT9FCvH",
        "outputId": "0d77b6c4-169d-4914-b196-cd071a7ed275",
        "colab": {
          "base_uri": "https://localhost:8080/"
        }
      },
      "source": [
        "y"
      ],
      "execution_count": 45,
      "outputs": [
        {
          "output_type": "execute_result",
          "data": {
            "text/plain": [
              "{'num3': 3, 'num4': 4}"
            ]
          },
          "metadata": {
            "tags": []
          },
          "execution_count": 45
        }
      ]
    },
    {
      "cell_type": "code",
      "metadata": {
        "id": "A54dswD1FFj5"
      },
      "source": [
        "z.update(y)\n"
      ],
      "execution_count": 60,
      "outputs": []
    },
    {
      "cell_type": "code",
      "metadata": {
        "id": "A4mrtzXCFp6R",
        "outputId": "09e3d5b1-1515-4308-feb7-771370e4ff5f",
        "colab": {
          "base_uri": "https://localhost:8080/"
        }
      },
      "source": [
        "z"
      ],
      "execution_count": 54,
      "outputs": [
        {
          "output_type": "execute_result",
          "data": {
            "text/plain": [
              "{'num1': 1, 'num2': 2, 'num3': 3, 'num4': 4}"
            ]
          },
          "metadata": {
            "tags": []
          },
          "execution_count": 54
        }
      ]
    },
    {
      "cell_type": "code",
      "metadata": {
        "id": "d4Ogn-jDHHC8",
        "outputId": "b9c4bd30-a1bf-4772-928f-4871d809f731",
        "colab": {
          "base_uri": "https://localhost:8080/"
        }
      },
      "source": [
        "z.update(f)\n",
        "z"
      ],
      "execution_count": 62,
      "outputs": [
        {
          "output_type": "execute_result",
          "data": {
            "text/plain": [
              "{'num1': 1, 'num2': 2, 'num3': 3, 'num4': 4, 'num5': 5, 'num6': 6}"
            ]
          },
          "metadata": {
            "tags": []
          },
          "execution_count": 62
        }
      ]
    }
  ]
}