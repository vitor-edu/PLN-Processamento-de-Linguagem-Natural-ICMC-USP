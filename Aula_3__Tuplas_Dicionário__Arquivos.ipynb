{
  "nbformat": 4,
  "nbformat_minor": 0,
  "metadata": {
    "colab": {
      "name": "Aula_3_ Tuplas_Dicionário _Arquivos.ipynb",
      "provenance": [],
      "collapsed_sections": [],
      "authorship_tag": "ABX9TyMTZDkfUthhG5vKE5DvfLFN",
      "include_colab_link": true
    },
    "kernelspec": {
      "name": "python3",
      "display_name": "Python 3"
    },
    "language_info": {
      "name": "python"
    }
  },
  "cells": [
    {
      "cell_type": "markdown",
      "metadata": {
        "id": "view-in-github",
        "colab_type": "text"
      },
      "source": [
        "<a href=\"https://colab.research.google.com/github/vitor-edu/Python-para-Processamento-de-Linguagem-Natural-ICMC-USP/blob/main/Aula_3__Tuplas_Dicion%C3%A1rio__Arquivos.ipynb\" target=\"_parent\"><img src=\"https://colab.research.google.com/assets/colab-badge.svg\" alt=\"Open In Colab\"/></a>"
      ]
    },
    {
      "cell_type": "markdown",
      "metadata": {
        "id": "xhkge1R2TUUy"
      },
      "source": [
        "Tupla"
      ]
    },
    {
      "cell_type": "code",
      "metadata": {
        "id": "qwEnzoEDR2RD"
      },
      "source": [
        "tupla = (32, 'vitor', 34, 'testando tupla', 45, 'abc', 33) # criando uma tupla com tipos diferentes"
      ],
      "execution_count": null,
      "outputs": []
    },
    {
      "cell_type": "code",
      "metadata": {
        "colab": {
          "base_uri": "https://localhost:8080/"
        },
        "id": "hakR5WaHSkv2",
        "outputId": "c1698a9d-9393-4029-a396-b18db05d57a8"
      },
      "source": [
        "tupla"
      ],
      "execution_count": null,
      "outputs": [
        {
          "output_type": "execute_result",
          "data": {
            "text/plain": [
              "(32, 'vitor', 34, 'testando tupla', 45, 'abc', 33)"
            ]
          },
          "metadata": {
            "tags": []
          },
          "execution_count": 2
        }
      ]
    },
    {
      "cell_type": "code",
      "metadata": {
        "colab": {
          "base_uri": "https://localhost:8080/",
          "height": 35
        },
        "id": "4yWSYM7RSvg-",
        "outputId": "3e89dea4-230d-4d31-f802-879269bf0c69"
      },
      "source": [
        "tupla[1] # retornando valor na posição 1"
      ],
      "execution_count": null,
      "outputs": [
        {
          "output_type": "execute_result",
          "data": {
            "application/vnd.google.colaboratory.intrinsic+json": {
              "type": "string"
            },
            "text/plain": [
              "'vitor'"
            ]
          },
          "metadata": {
            "tags": []
          },
          "execution_count": 3
        }
      ]
    },
    {
      "cell_type": "markdown",
      "metadata": {
        "id": "Gq7pCPH6TXVq"
      },
      "source": [
        "Dicionário"
      ]
    },
    {
      "cell_type": "code",
      "metadata": {
        "id": "G4ussNCnTbQA"
      },
      "source": [
        "dic = {} # criando um dicionário vazio"
      ],
      "execution_count": null,
      "outputs": []
    },
    {
      "cell_type": "code",
      "metadata": {
        "id": "ayTAea5NU4TQ"
      },
      "source": [
        "dic['valo1'] = 'vitor' # atribuindo valor para o dicionário\n",
        "dic['valo2'] = 'monique'\n",
        "dic['valo3'] = 'lais'\n",
        "dic['valo4'] = 'natalha'"
      ],
      "execution_count": null,
      "outputs": []
    },
    {
      "cell_type": "code",
      "metadata": {
        "colab": {
          "base_uri": "https://localhost:8080/"
        },
        "id": "WfXsN9GEVRMo",
        "outputId": "81014f5f-a4f1-4fc3-fde1-98d7937bd7b1"
      },
      "source": [
        "dic"
      ],
      "execution_count": null,
      "outputs": [
        {
          "output_type": "execute_result",
          "data": {
            "text/plain": [
              "{'valo1': 'vitor', 'valo2': 'monique', 'valo3': 'lais', 'valo4': 'natalha'}"
            ]
          },
          "metadata": {
            "tags": []
          },
          "execution_count": 6
        }
      ]
    },
    {
      "cell_type": "code",
      "metadata": {
        "id": "2tbSdKKuVcYr"
      },
      "source": [
        "dic2 = {} #criando dicionário vazio"
      ],
      "execution_count": null,
      "outputs": []
    },
    {
      "cell_type": "code",
      "metadata": {
        "id": "oaB9rL-lWX8v"
      },
      "source": [
        "dic2[1] = 332 # atribuindo valores ao dicionário\n",
        "dic2[2] = 553\n",
        "dic2[3] = 345\n",
        "dic2[4] = 346"
      ],
      "execution_count": null,
      "outputs": []
    },
    {
      "cell_type": "code",
      "metadata": {
        "colab": {
          "base_uri": "https://localhost:8080/"
        },
        "id": "h_IO-MPsWoGL",
        "outputId": "3f7354d1-67f3-4cbd-bf9c-39d7ca55ba0c"
      },
      "source": [
        "dic2"
      ],
      "execution_count": null,
      "outputs": [
        {
          "output_type": "execute_result",
          "data": {
            "text/plain": [
              "{1: 332, 2: 553, 3: 345, 4: 346}"
            ]
          },
          "metadata": {
            "tags": []
          },
          "execution_count": 9
        }
      ]
    },
    {
      "cell_type": "code",
      "metadata": {
        "id": "Uw2IbtsAWvWB"
      },
      "source": [
        "dic3 = {} # criando dicionario vazio"
      ],
      "execution_count": null,
      "outputs": []
    },
    {
      "cell_type": "code",
      "metadata": {
        "id": "ELYUpCMSXCSH"
      },
      "source": [
        "dic3['list1'] = ['vitor','maria','niki','edilson'] #atribuindo um valor tipo lista para o dicionario\n",
        "dic3['list2'] = ['fran','tata','lucas','tureli']\n",
        "dic3['list3'] = ['marcos','naty','jessica','portao']\n",
        "dic3['list4'] = ['lizias','jesus','joarez','mayra']"
      ],
      "execution_count": null,
      "outputs": []
    },
    {
      "cell_type": "code",
      "metadata": {
        "colab": {
          "base_uri": "https://localhost:8080/"
        },
        "id": "7exvdmxuXyM9",
        "outputId": "94854d8d-5a14-4be9-94ff-3ec936b49a0f"
      },
      "source": [
        "dic3"
      ],
      "execution_count": null,
      "outputs": [
        {
          "output_type": "execute_result",
          "data": {
            "text/plain": [
              "{'list1': ['vitor', 'maria', 'niki', 'edilson'],\n",
              " 'list2': ['fran', 'tata', 'lucas', 'tureli'],\n",
              " 'list3': ['marcos', 'naty', 'jessica', 'portao'],\n",
              " 'list4': ['lizias', 'jesus', 'joarez', 'mayra']}"
            ]
          },
          "metadata": {
            "tags": []
          },
          "execution_count": 12
        }
      ]
    },
    {
      "cell_type": "code",
      "metadata": {
        "id": "7ndIT3RnbFYL"
      },
      "source": [
        "dic4 = {} # criando um dicionário vazio"
      ],
      "execution_count": null,
      "outputs": []
    },
    {
      "cell_type": "code",
      "metadata": {
        "id": "_diJciy8bOO2"
      },
      "source": [
        "dic4[11] = [343, 565, 675, 566] #atribuindo um valor tipo lista para o dicionario\n",
        "dic4[22] = [334, 545, 676, 676]\n",
        "dic4[33] = [343, 454, 343, 456]\n",
        "dic4[44] = [787, 676, 876, 787]"
      ],
      "execution_count": null,
      "outputs": []
    },
    {
      "cell_type": "code",
      "metadata": {
        "colab": {
          "base_uri": "https://localhost:8080/"
        },
        "id": "1_Ogu1gOcNBJ",
        "outputId": "efd11008-fa44-41e7-e8e9-bf5d3a469efb"
      },
      "source": [
        "dic4"
      ],
      "execution_count": null,
      "outputs": [
        {
          "output_type": "execute_result",
          "data": {
            "text/plain": [
              "{11: [343, 565, 675, 566],\n",
              " 22: [334, 545, 676, 676],\n",
              " 33: [343, 454, 343, 456],\n",
              " 44: [787, 676, 876, 787]}"
            ]
          },
          "metadata": {
            "tags": []
          },
          "execution_count": 15
        }
      ]
    },
    {
      "cell_type": "code",
      "metadata": {
        "id": "DKroGINr2Jf_",
        "colab": {
          "base_uri": "https://localhost:8080/"
        },
        "outputId": "d9dad6bd-f20f-41c0-d01c-b332d99bfcbf"
      },
      "source": [
        "dic4.keys() # retorna a lista com todas as chaves"
      ],
      "execution_count": null,
      "outputs": [
        {
          "output_type": "execute_result",
          "data": {
            "text/plain": [
              "dict_keys([11, 22, 33, 44])"
            ]
          },
          "metadata": {
            "tags": []
          },
          "execution_count": 16
        }
      ]
    },
    {
      "cell_type": "code",
      "metadata": {
        "id": "T4H4mTtn3ndw",
        "colab": {
          "base_uri": "https://localhost:8080/"
        },
        "outputId": "6856579d-85d7-4c0f-e301-af3942991f98"
      },
      "source": [
        "dic4.values() # #retorna a lista com todos os valores"
      ],
      "execution_count": null,
      "outputs": [
        {
          "output_type": "execute_result",
          "data": {
            "text/plain": [
              "dict_values([[343, 565, 675, 566], [334, 545, 676, 676], [343, 454, 343, 456], [787, 676, 876, 787]])"
            ]
          },
          "metadata": {
            "tags": []
          },
          "execution_count": 17
        }
      ]
    },
    {
      "cell_type": "code",
      "metadata": {
        "id": "qMGbXDUs3uxo",
        "colab": {
          "base_uri": "https://localhost:8080/"
        },
        "outputId": "50b98202-89bc-417d-8c72-e9a555bfe3f6"
      },
      "source": [
        "type(dic4.keys()) #tipo dos dados "
      ],
      "execution_count": null,
      "outputs": [
        {
          "output_type": "execute_result",
          "data": {
            "text/plain": [
              "dict_keys"
            ]
          },
          "metadata": {
            "tags": []
          },
          "execution_count": 18
        }
      ]
    },
    {
      "cell_type": "code",
      "metadata": {
        "id": "WMFjNH5or0_D"
      },
      "source": [
        "dic.update(dic2) # atribuindo os valores dos dicionários criados ao dicionário dic\n",
        "dic.update(dic3) \n",
        "dic.update(dic4)"
      ],
      "execution_count": null,
      "outputs": []
    },
    {
      "cell_type": "code",
      "metadata": {
        "id": "w48YtjWHsq06",
        "colab": {
          "base_uri": "https://localhost:8080/"
        },
        "outputId": "0f729b2f-ef11-4e8b-f8ed-664b99f66f7a"
      },
      "source": [
        "dic"
      ],
      "execution_count": null,
      "outputs": [
        {
          "output_type": "execute_result",
          "data": {
            "text/plain": [
              "{1: 332,\n",
              " 11: [343, 565, 675, 566],\n",
              " 2: 553,\n",
              " 22: [334, 545, 676, 676],\n",
              " 3: 345,\n",
              " 33: [343, 454, 343, 456],\n",
              " 4: 346,\n",
              " 44: [787, 676, 876, 787],\n",
              " 'list1': ['vitor', 'maria', 'niki', 'edilson'],\n",
              " 'list2': ['fran', 'tata', 'lucas', 'tureli'],\n",
              " 'list3': ['marcos', 'naty', 'jessica', 'portao'],\n",
              " 'list4': ['lizias', 'jesus', 'joarez', 'mayra'],\n",
              " 'valo1': 'vitor',\n",
              " 'valo2': 'monique',\n",
              " 'valo3': 'lais',\n",
              " 'valo4': 'natalha'}"
            ]
          },
          "metadata": {
            "tags": []
          },
          "execution_count": 20
        }
      ]
    },
    {
      "cell_type": "code",
      "metadata": {
        "id": "tNjpd2b_DAA-"
      },
      "source": [
        "dic_all = list(dic.items()) # fazendo um cast mudando de dicionario para lista retornando chave e valor"
      ],
      "execution_count": null,
      "outputs": []
    },
    {
      "cell_type": "code",
      "metadata": {
        "id": "kV2LdVNXtO45",
        "colab": {
          "base_uri": "https://localhost:8080/"
        },
        "outputId": "883f5778-a20c-43fd-bb52-fbabf6fb5618"
      },
      "source": [
        "dic_all"
      ],
      "execution_count": null,
      "outputs": [
        {
          "output_type": "execute_result",
          "data": {
            "text/plain": [
              "[('valo1', 'vitor'),\n",
              " ('valo2', 'monique'),\n",
              " ('valo3', 'lais'),\n",
              " ('valo4', 'natalha'),\n",
              " (1, 332),\n",
              " (2, 553),\n",
              " (3, 345),\n",
              " (4, 346),\n",
              " ('list1', ['vitor', 'maria', 'niki', 'edilson']),\n",
              " ('list2', ['fran', 'tata', 'lucas', 'tureli']),\n",
              " ('list3', ['marcos', 'naty', 'jessica', 'portao']),\n",
              " ('list4', ['lizias', 'jesus', 'joarez', 'mayra']),\n",
              " (11, [343, 565, 675, 566]),\n",
              " (22, [334, 545, 676, 676]),\n",
              " (33, [343, 454, 343, 456]),\n",
              " (44, [787, 676, 876, 787])]"
            ]
          },
          "metadata": {
            "tags": []
          },
          "execution_count": 22
        }
      ]
    },
    {
      "cell_type": "code",
      "metadata": {
        "id": "Q7R8yUzSNQK6",
        "colab": {
          "base_uri": "https://localhost:8080/"
        },
        "outputId": "9dad3868-2ca8-4b22-d39a-7886b74b1c09"
      },
      "source": [
        "type(dic_all) # verificando tipo de variável "
      ],
      "execution_count": null,
      "outputs": [
        {
          "output_type": "execute_result",
          "data": {
            "text/plain": [
              "list"
            ]
          },
          "metadata": {
            "tags": []
          },
          "execution_count": 25
        }
      ]
    },
    {
      "cell_type": "code",
      "metadata": {
        "id": "vDiFBZTAQEqr",
        "colab": {
          "base_uri": "https://localhost:8080/"
        },
        "outputId": "eef97031-4bf0-4498-cb2a-46e8f2bdaf38"
      },
      "source": [
        "for k, v in dic_all: \n",
        "  print('result-chave: ', k, 'result-valor: ', v)"
      ],
      "execution_count": null,
      "outputs": [
        {
          "output_type": "stream",
          "text": [
            "result-chave:  valo1 result-valor:  vitor\n",
            "result-chave:  valo2 result-valor:  monique\n",
            "result-chave:  valo3 result-valor:  lais\n",
            "result-chave:  valo4 result-valor:  natalha\n",
            "result-chave:  1 result-valor:  332\n",
            "result-chave:  2 result-valor:  553\n",
            "result-chave:  3 result-valor:  345\n",
            "result-chave:  4 result-valor:  346\n",
            "result-chave:  list1 result-valor:  ['vitor', 'maria', 'niki', 'edilson']\n",
            "result-chave:  list2 result-valor:  ['fran', 'tata', 'lucas', 'tureli']\n",
            "result-chave:  list3 result-valor:  ['marcos', 'naty', 'jessica', 'portao']\n",
            "result-chave:  list4 result-valor:  ['lizias', 'jesus', 'joarez', 'mayra']\n",
            "result-chave:  11 result-valor:  [343, 565, 675, 566]\n",
            "result-chave:  22 result-valor:  [334, 545, 676, 676]\n",
            "result-chave:  33 result-valor:  [343, 454, 343, 456]\n",
            "result-chave:  44 result-valor:  [787, 676, 876, 787]\n"
          ],
          "name": "stdout"
        }
      ]
    },
    {
      "cell_type": "markdown",
      "metadata": {
        "id": "JIou_w2jWivh"
      },
      "source": [
        "Arquivos: Lendo arquivos"
      ]
    },
    {
      "cell_type": "code",
      "metadata": {
        "id": "Eb8N-DnGWdAM",
        "colab": {
          "base_uri": "https://localhost:8080/"
        },
        "outputId": "85a7ab48-f998-403e-de5b-e47b64a32996"
      },
      "source": [
        "from google.colab import drive #baixando arquivo do drive para analise. \n",
        "drive.mount('/content/drive')\n",
        "infile = open('/content/drive/My Drive/qbdata.txt','r')\n",
        "x = infile.readlines()"
      ],
      "execution_count": 7,
      "outputs": [
        {
          "output_type": "stream",
          "text": [
            "Drive already mounted at /content/drive; to attempt to forcibly remount, call drive.mount(\"/content/drive\", force_remount=True).\n"
          ],
          "name": "stdout"
        }
      ]
    },
    {
      "cell_type": "code",
      "metadata": {
        "id": "SaMrkiXDXlII",
        "colab": {
          "base_uri": "https://localhost:8080/"
        },
        "outputId": "fd3f82f3-b859-4cd4-f80b-98835f026039"
      },
      "source": [
        "x "
      ],
      "execution_count": 8,
      "outputs": [
        {
          "output_type": "execute_result",
          "data": {
            "text/plain": [
              "['First Name, Last Name, Position, Team, Completions, Attempts, Yards, TDs Ints, Comp%, Rating\\n',\n",
              " 'Colt McCoy QB, CLE  135 222 1576    6   9   60.8%   74.5\\n',\n",
              " 'Josh Freeman QB, TB 291 474 3451    25  6   61.4%   95.9\\n',\n",
              " 'Michael Vick QB, PHI    233 372 3018    21  6   62.6%   100.2\\n',\n",
              " 'Matt Schaub QB, HOU 365 574 4370    24  12  63.6%   92.0\\n',\n",
              " 'Philip Rivers QB, SD    357 541 4710    30  13  66.0%   101.8\\n',\n",
              " 'Matt Hasselbeck QB, SEA 266 444 3001    12  17  59.9%   73.2\\n',\n",
              " 'Jimmy Clausen QB, CAR   157 299 1558    3   9   52.5%   58.4\\n',\n",
              " 'Joe Flacco QB, BAL  306 489 3622    25  10  62.6%   93.6\\n',\n",
              " 'Kyle Orton QB, DEN  293 498 3653    20  9   58.8%   87.5\\n',\n",
              " 'Jason Campbell QB, OAK  194 329 2387    13  8   59.0%   84.5\\n',\n",
              " 'Peyton Manning QB, IND  450 679 4700    33  17  66.3%   91.9\\n',\n",
              " 'Drew Brees QB, NO   448 658 4620    33  22  68.1%   90.9\\n',\n",
              " 'Matt Ryan QB, ATL   357 571 3705    28  9   62.5%   91.0\\n',\n",
              " 'Matt Cassel QB, KC  262 450 3116    27  7   58.2%   93.0\\n',\n",
              " 'Mark Sanchez QB, NYJ    278 507 3291    17  13  54.8%   75.3\\n',\n",
              " 'Brett Favre QB, MIN 217 358 2509    11  19  60.6%   69.9\\n',\n",
              " 'David Garrard QB, JAC   236 366 2734    23  15  64.5%   90.8\\n',\n",
              " 'Eli Manning QB, NYG 339 539 4002    31  25  62.9%   85.3\\n',\n",
              " 'Carson Palmer QB, CIN   362 586 3970    26  20  61.8%   82.4\\n',\n",
              " 'Alex Smith QB, SF   204 342 2370    14  10  59.6%   82.1\\n',\n",
              " 'Chad Henne QB, MIA  301 490 3301    15  19  61.4%   75.4\\n',\n",
              " 'Tony Romo QB, DAL   148 213 1605    11  7   69.5%   94.9\\n',\n",
              " 'Jay Cutler QB, CHI  261 432 3274    23  16  60.4%   86.3\\n',\n",
              " 'Jon Kitna QB, DAL   209 318 2365    16  12  65.7%   88.9\\n',\n",
              " 'Tom Brady QB, NE    324 492 3900    36  4   65.9%   111.0\\n',\n",
              " 'Ben Roethlisberger QB, PIT  240 389 3200    17  5   61.7%   97.0\\n',\n",
              " 'Kerry Collins QB, TEN   160 278 1823    14  8   57.6%   82.2\\n',\n",
              " 'Derek Anderson QB, ARI  169 327 2065    7   10  51.7%   65.9\\n',\n",
              " 'Ryan Fitzpatrick QB, BUF    255 441 3000    23  15  57.8%   81.8\\n',\n",
              " 'Donovan McNabb QB, WAS  275 472 3377    14  15  58.3%   77.1\\n',\n",
              " 'Kevin Kolb QB, PHI  115 189 1197    7   7   60.8%   76.1\\n',\n",
              " 'Aaron Rodgers QB, GB    312 475 3922    28  11  65.7%   101.2\\n',\n",
              " 'Sam Bradford QB, STL    354 590 3512    18  15  60.0%   76.5\\n',\n",
              " 'Shaun Hill QB, DET  257 416 2686    16  12  61.8%   81.3']"
            ]
          },
          "metadata": {
            "tags": []
          },
          "execution_count": 8
        }
      ]
    },
    {
      "cell_type": "markdown",
      "metadata": {
        "id": "jjafH_rEjzhC"
      },
      "source": [
        "inserir dados no arquivo."
      ]
    },
    {
      "cell_type": "code",
      "metadata": {
        "colab": {
          "base_uri": "https://localhost:8080/"
        },
        "id": "H0V-SkqAj657",
        "outputId": "fa9e0741-b996-4f6f-f82f-88265f57cbcf"
      },
      "source": [
        "from google.colab import drive # inserindo dados em um arquivo txt no drive. \n",
        "drive.mount('/content/drive')\n",
        "outfile = open('/content/drive/My Drive/teste_usp.txt','w') # trocando para w de write. \n",
        "outfile.write(\"numeros de 1 a 10 \")\n",
        "for i in range(1,11):\n",
        "  outfile.write(str(i)+'\\n')\n",
        "outfile.close()\n",
        "\n"
      ],
      "execution_count": 14,
      "outputs": [
        {
          "output_type": "stream",
          "text": [
            "Drive already mounted at /content/drive; to attempt to forcibly remount, call drive.mount(\"/content/drive\", force_remount=True).\n"
          ],
          "name": "stdout"
        }
      ]
    },
    {
      "cell_type": "code",
      "metadata": {
        "colab": {
          "base_uri": "https://localhost:8080/"
        },
        "id": "g-UvB6IomSXO",
        "outputId": "3912971e-b22b-41f4-a060-d97d3af8550d"
      },
      "source": [
        "result = open('/content/drive/My Drive/teste_usp.txt','r') # mostrar o arquivo alterado\n",
        "arquivo_inscrito = result.readlines()\n",
        "arquivo_inscrito"
      ],
      "execution_count": 15,
      "outputs": [
        {
          "output_type": "execute_result",
          "data": {
            "text/plain": [
              "['numeros de 1 a 10 1\\n',\n",
              " '2\\n',\n",
              " '3\\n',\n",
              " '4\\n',\n",
              " '5\\n',\n",
              " '6\\n',\n",
              " '7\\n',\n",
              " '8\\n',\n",
              " '9\\n',\n",
              " '10\\n']"
            ]
          },
          "metadata": {
            "tags": []
          },
          "execution_count": 15
        }
      ]
    }
  ]
}