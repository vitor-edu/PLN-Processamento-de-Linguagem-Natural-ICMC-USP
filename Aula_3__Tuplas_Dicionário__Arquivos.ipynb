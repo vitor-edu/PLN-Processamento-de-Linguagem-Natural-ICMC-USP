{
  "nbformat": 4,
  "nbformat_minor": 0,
  "metadata": {
    "colab": {
      "name": "Aula_3_ Tuplas_Dicionário _Arquivos.ipynb",
      "provenance": [],
      "collapsed_sections": [],
      "authorship_tag": "ABX9TyMDkKZSNo8NMo+PQM7tdY9c",
      "include_colab_link": true
    },
    "kernelspec": {
      "name": "python3",
      "display_name": "Python 3"
    },
    "language_info": {
      "name": "python"
    }
  },
  "cells": [
    {
      "cell_type": "markdown",
      "metadata": {
        "id": "view-in-github",
        "colab_type": "text"
      },
      "source": [
        "<a href=\"https://colab.research.google.com/github/vitor-edu/Python-para-Processamento-de-Linguagem-Natural-ICMC-USP/blob/main/Aula_3__Tuplas_Dicion%C3%A1rio__Arquivos.ipynb\" target=\"_parent\"><img src=\"https://colab.research.google.com/assets/colab-badge.svg\" alt=\"Open In Colab\"/></a>"
      ]
    },
    {
      "cell_type": "markdown",
      "metadata": {
        "id": "xhkge1R2TUUy"
      },
      "source": [
        "Tupla"
      ]
    },
    {
      "cell_type": "code",
      "metadata": {
        "id": "qwEnzoEDR2RD"
      },
      "source": [
        "tupla = (32, 'vitor', 34, 'testando tupla', 45, 'abc', 33) # criando uma tupla com tipos diferentes"
      ],
      "execution_count": 22,
      "outputs": []
    },
    {
      "cell_type": "code",
      "metadata": {
        "colab": {
          "base_uri": "https://localhost:8080/"
        },
        "id": "hakR5WaHSkv2",
        "outputId": "11539f0d-5ff0-4fcb-93a7-e4c9a9d598e6"
      },
      "source": [
        "tupla"
      ],
      "execution_count": 23,
      "outputs": [
        {
          "output_type": "execute_result",
          "data": {
            "text/plain": [
              "(32, 'vitor', 34, 'testando tupla', 45, 'abc', 33)"
            ]
          },
          "metadata": {
            "tags": []
          },
          "execution_count": 23
        }
      ]
    },
    {
      "cell_type": "code",
      "metadata": {
        "colab": {
          "base_uri": "https://localhost:8080/",
          "height": 35
        },
        "id": "4yWSYM7RSvg-",
        "outputId": "4c105b7e-0ad9-444e-ce6a-319d3c3261c2"
      },
      "source": [
        "tupla[1] # retornando valor na posição 1"
      ],
      "execution_count": 24,
      "outputs": [
        {
          "output_type": "execute_result",
          "data": {
            "application/vnd.google.colaboratory.intrinsic+json": {
              "type": "string"
            },
            "text/plain": [
              "'vitor'"
            ]
          },
          "metadata": {
            "tags": []
          },
          "execution_count": 24
        }
      ]
    },
    {
      "cell_type": "markdown",
      "metadata": {
        "id": "Gq7pCPH6TXVq"
      },
      "source": [
        "Dicionário"
      ]
    },
    {
      "cell_type": "code",
      "metadata": {
        "id": "G4ussNCnTbQA"
      },
      "source": [
        "dic = {} # criando um dicionário vazio"
      ],
      "execution_count": 25,
      "outputs": []
    },
    {
      "cell_type": "code",
      "metadata": {
        "id": "ayTAea5NU4TQ"
      },
      "source": [
        "dic['valo1'] = 'vitor' # atribuindo valor para o dicionário\n",
        "dic['valo2'] = 'monique'\n",
        "dic['valo3'] = 'lais'\n",
        "dic['valo4'] = 'natalha'"
      ],
      "execution_count": 26,
      "outputs": []
    },
    {
      "cell_type": "code",
      "metadata": {
        "colab": {
          "base_uri": "https://localhost:8080/"
        },
        "id": "WfXsN9GEVRMo",
        "outputId": "c122dab7-7b33-4d91-f965-6112aaa67966"
      },
      "source": [
        "dic"
      ],
      "execution_count": 27,
      "outputs": [
        {
          "output_type": "execute_result",
          "data": {
            "text/plain": [
              "{'valo1': 'vitor', 'valo2': 'monique', 'valo3': 'lais', 'valo4': 'natalha'}"
            ]
          },
          "metadata": {
            "tags": []
          },
          "execution_count": 27
        }
      ]
    },
    {
      "cell_type": "code",
      "metadata": {
        "id": "2tbSdKKuVcYr"
      },
      "source": [
        "dic2 = {} #criando dicionário vazio"
      ],
      "execution_count": 28,
      "outputs": []
    },
    {
      "cell_type": "markdown",
      "metadata": {
        "id": "rCpgyD26Wqdd"
      },
      "source": [
        ""
      ]
    },
    {
      "cell_type": "code",
      "metadata": {
        "id": "oaB9rL-lWX8v"
      },
      "source": [
        "dic2[1] = 332 # atribuindo valores ao dicionário\n",
        "dic2[2] = 553\n",
        "dic2[3] = 345\n",
        "dic2[4] = 346"
      ],
      "execution_count": 29,
      "outputs": []
    },
    {
      "cell_type": "code",
      "metadata": {
        "colab": {
          "base_uri": "https://localhost:8080/"
        },
        "id": "h_IO-MPsWoGL",
        "outputId": "3be29964-de72-41fd-c0c1-f71b3637d80f"
      },
      "source": [
        "dic2"
      ],
      "execution_count": 30,
      "outputs": [
        {
          "output_type": "execute_result",
          "data": {
            "text/plain": [
              "{1: 332, 2: 553, 3: 345, 4: 346}"
            ]
          },
          "metadata": {
            "tags": []
          },
          "execution_count": 30
        }
      ]
    },
    {
      "cell_type": "code",
      "metadata": {
        "id": "Uw2IbtsAWvWB"
      },
      "source": [
        "dic3 = {} # criando dicionario vazio"
      ],
      "execution_count": 31,
      "outputs": []
    },
    {
      "cell_type": "code",
      "metadata": {
        "id": "ELYUpCMSXCSH"
      },
      "source": [
        "dic3['list1'] = ['vitor','maria','niki','edilson'] #atribuindo um valor tipo lista para o dicionario\n",
        "dic3['list2'] = ['fran','tata','lucas','tureli']\n",
        "dic3['list3'] = ['marcos','naty','jessica','portao']\n",
        "dic3['list4'] = ['lizias','jesus','joarez','mayra']"
      ],
      "execution_count": 32,
      "outputs": []
    },
    {
      "cell_type": "code",
      "metadata": {
        "colab": {
          "base_uri": "https://localhost:8080/"
        },
        "id": "7exvdmxuXyM9",
        "outputId": "5958b206-5b8d-4f55-a87a-bbdd63d2c403"
      },
      "source": [
        "dic3"
      ],
      "execution_count": 33,
      "outputs": [
        {
          "output_type": "execute_result",
          "data": {
            "text/plain": [
              "{'list1': ['vitor', 'maria', 'niki', 'edilson'],\n",
              " 'list2': ['fran', 'tata', 'lucas', 'tureli'],\n",
              " 'list3': ['marcos', 'naty', 'jessica', 'portao'],\n",
              " 'list4': ['lizias', 'jesus', 'joarez', 'mayra']}"
            ]
          },
          "metadata": {
            "tags": []
          },
          "execution_count": 33
        }
      ]
    },
    {
      "cell_type": "code",
      "metadata": {
        "id": "7ndIT3RnbFYL"
      },
      "source": [
        "dic4 = {} # criando um dicionário vazio"
      ],
      "execution_count": 34,
      "outputs": []
    },
    {
      "cell_type": "code",
      "metadata": {
        "id": "_diJciy8bOO2"
      },
      "source": [
        "dic4[11] = [343, 565, 675, 566] #atribuindo um valor tipo lista para o dicionario\n",
        "dic4[22] = [334, 545, 676, 676]\n",
        "dic4[33] = [343, 454, 343, 456]\n",
        "dic4[44] = [787, 676, 876, 787]"
      ],
      "execution_count": 35,
      "outputs": []
    },
    {
      "cell_type": "code",
      "metadata": {
        "colab": {
          "base_uri": "https://localhost:8080/"
        },
        "id": "1_Ogu1gOcNBJ",
        "outputId": "ce935058-4b7f-4341-ed45-b89ab23c3ae6"
      },
      "source": [
        "dic4"
      ],
      "execution_count": 36,
      "outputs": [
        {
          "output_type": "execute_result",
          "data": {
            "text/plain": [
              "{11: [343, 565, 675, 566],\n",
              " 22: [334, 545, 676, 676],\n",
              " 33: [343, 454, 343, 456],\n",
              " 44: [787, 676, 876, 787]}"
            ]
          },
          "metadata": {
            "tags": []
          },
          "execution_count": 36
        }
      ]
    }
  ]
}