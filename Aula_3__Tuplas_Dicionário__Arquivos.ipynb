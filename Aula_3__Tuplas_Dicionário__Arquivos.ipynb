{
  "nbformat": 4,
  "nbformat_minor": 0,
  "metadata": {
    "colab": {
      "name": "Aula_3_ Tuplas_Dicionário _Arquivos.ipynb",
      "provenance": [],
      "collapsed_sections": [],
      "authorship_tag": "ABX9TyPAMJaMEiqre0kQXvbWb4yc",
      "include_colab_link": true
    },
    "kernelspec": {
      "name": "python3",
      "display_name": "Python 3"
    },
    "language_info": {
      "name": "python"
    }
  },
  "cells": [
    {
      "cell_type": "markdown",
      "metadata": {
        "id": "view-in-github",
        "colab_type": "text"
      },
      "source": [
        "<a href=\"https://colab.research.google.com/github/vitor-edu/Python-para-Processamento-de-Linguagem-Natural-ICMC-USP/blob/main/Aula_3__Tuplas_Dicion%C3%A1rio__Arquivos.ipynb\" target=\"_parent\"><img src=\"https://colab.research.google.com/assets/colab-badge.svg\" alt=\"Open In Colab\"/></a>"
      ]
    },
    {
      "cell_type": "markdown",
      "metadata": {
        "id": "xhkge1R2TUUy"
      },
      "source": [
        "Tupla"
      ]
    },
    {
      "cell_type": "code",
      "metadata": {
        "id": "qwEnzoEDR2RD"
      },
      "source": [
        "tupla = (32, 'vitor', 34, 'testando tupla', 45, 'abc', 33) # criando uma tupla com tipos diferentes"
      ],
      "execution_count": null,
      "outputs": []
    },
    {
      "cell_type": "code",
      "metadata": {
        "colab": {
          "base_uri": "https://localhost:8080/"
        },
        "id": "hakR5WaHSkv2",
        "outputId": "c1698a9d-9393-4029-a396-b18db05d57a8"
      },
      "source": [
        "tupla"
      ],
      "execution_count": null,
      "outputs": [
        {
          "output_type": "execute_result",
          "data": {
            "text/plain": [
              "(32, 'vitor', 34, 'testando tupla', 45, 'abc', 33)"
            ]
          },
          "metadata": {
            "tags": []
          },
          "execution_count": 2
        }
      ]
    },
    {
      "cell_type": "code",
      "metadata": {
        "colab": {
          "base_uri": "https://localhost:8080/",
          "height": 35
        },
        "id": "4yWSYM7RSvg-",
        "outputId": "3e89dea4-230d-4d31-f802-879269bf0c69"
      },
      "source": [
        "tupla[1] # retornando valor na posição 1"
      ],
      "execution_count": null,
      "outputs": [
        {
          "output_type": "execute_result",
          "data": {
            "application/vnd.google.colaboratory.intrinsic+json": {
              "type": "string"
            },
            "text/plain": [
              "'vitor'"
            ]
          },
          "metadata": {
            "tags": []
          },
          "execution_count": 3
        }
      ]
    },
    {
      "cell_type": "markdown",
      "metadata": {
        "id": "Gq7pCPH6TXVq"
      },
      "source": [
        "Dicionário"
      ]
    },
    {
      "cell_type": "code",
      "metadata": {
        "id": "G4ussNCnTbQA"
      },
      "source": [
        "dic = {} # criando um dicionário vazio"
      ],
      "execution_count": null,
      "outputs": []
    },
    {
      "cell_type": "code",
      "metadata": {
        "id": "ayTAea5NU4TQ"
      },
      "source": [
        "dic['valo1'] = 'vitor' # atribuindo valor para o dicionário\n",
        "dic['valo2'] = 'monique'\n",
        "dic['valo3'] = 'lais'\n",
        "dic['valo4'] = 'natalha'"
      ],
      "execution_count": null,
      "outputs": []
    },
    {
      "cell_type": "code",
      "metadata": {
        "colab": {
          "base_uri": "https://localhost:8080/"
        },
        "id": "WfXsN9GEVRMo",
        "outputId": "81014f5f-a4f1-4fc3-fde1-98d7937bd7b1"
      },
      "source": [
        "dic"
      ],
      "execution_count": null,
      "outputs": [
        {
          "output_type": "execute_result",
          "data": {
            "text/plain": [
              "{'valo1': 'vitor', 'valo2': 'monique', 'valo3': 'lais', 'valo4': 'natalha'}"
            ]
          },
          "metadata": {
            "tags": []
          },
          "execution_count": 6
        }
      ]
    },
    {
      "cell_type": "code",
      "metadata": {
        "id": "2tbSdKKuVcYr"
      },
      "source": [
        "dic2 = {} #criando dicionário vazio"
      ],
      "execution_count": null,
      "outputs": []
    },
    {
      "cell_type": "code",
      "metadata": {
        "id": "oaB9rL-lWX8v"
      },
      "source": [
        "dic2[1] = 332 # atribuindo valores ao dicionário\n",
        "dic2[2] = 553\n",
        "dic2[3] = 345\n",
        "dic2[4] = 346"
      ],
      "execution_count": null,
      "outputs": []
    },
    {
      "cell_type": "code",
      "metadata": {
        "colab": {
          "base_uri": "https://localhost:8080/"
        },
        "id": "h_IO-MPsWoGL",
        "outputId": "3f7354d1-67f3-4cbd-bf9c-39d7ca55ba0c"
      },
      "source": [
        "dic2"
      ],
      "execution_count": null,
      "outputs": [
        {
          "output_type": "execute_result",
          "data": {
            "text/plain": [
              "{1: 332, 2: 553, 3: 345, 4: 346}"
            ]
          },
          "metadata": {
            "tags": []
          },
          "execution_count": 9
        }
      ]
    },
    {
      "cell_type": "code",
      "metadata": {
        "id": "Uw2IbtsAWvWB"
      },
      "source": [
        "dic3 = {} # criando dicionario vazio"
      ],
      "execution_count": null,
      "outputs": []
    },
    {
      "cell_type": "code",
      "metadata": {
        "id": "ELYUpCMSXCSH"
      },
      "source": [
        "dic3['list1'] = ['vitor','maria','niki','edilson'] #atribuindo um valor tipo lista para o dicionario\n",
        "dic3['list2'] = ['fran','tata','lucas','tureli']\n",
        "dic3['list3'] = ['marcos','naty','jessica','portao']\n",
        "dic3['list4'] = ['lizias','jesus','joarez','mayra']"
      ],
      "execution_count": null,
      "outputs": []
    },
    {
      "cell_type": "code",
      "metadata": {
        "colab": {
          "base_uri": "https://localhost:8080/"
        },
        "id": "7exvdmxuXyM9",
        "outputId": "94854d8d-5a14-4be9-94ff-3ec936b49a0f"
      },
      "source": [
        "dic3"
      ],
      "execution_count": null,
      "outputs": [
        {
          "output_type": "execute_result",
          "data": {
            "text/plain": [
              "{'list1': ['vitor', 'maria', 'niki', 'edilson'],\n",
              " 'list2': ['fran', 'tata', 'lucas', 'tureli'],\n",
              " 'list3': ['marcos', 'naty', 'jessica', 'portao'],\n",
              " 'list4': ['lizias', 'jesus', 'joarez', 'mayra']}"
            ]
          },
          "metadata": {
            "tags": []
          },
          "execution_count": 12
        }
      ]
    },
    {
      "cell_type": "code",
      "metadata": {
        "id": "7ndIT3RnbFYL"
      },
      "source": [
        "dic4 = {} # criando um dicionário vazio"
      ],
      "execution_count": null,
      "outputs": []
    },
    {
      "cell_type": "code",
      "metadata": {
        "id": "_diJciy8bOO2"
      },
      "source": [
        "dic4[11] = [343, 565, 675, 566] #atribuindo um valor tipo lista para o dicionario\n",
        "dic4[22] = [334, 545, 676, 676]\n",
        "dic4[33] = [343, 454, 343, 456]\n",
        "dic4[44] = [787, 676, 876, 787]"
      ],
      "execution_count": null,
      "outputs": []
    },
    {
      "cell_type": "code",
      "metadata": {
        "colab": {
          "base_uri": "https://localhost:8080/"
        },
        "id": "1_Ogu1gOcNBJ",
        "outputId": "efd11008-fa44-41e7-e8e9-bf5d3a469efb"
      },
      "source": [
        "dic4"
      ],
      "execution_count": null,
      "outputs": [
        {
          "output_type": "execute_result",
          "data": {
            "text/plain": [
              "{11: [343, 565, 675, 566],\n",
              " 22: [334, 545, 676, 676],\n",
              " 33: [343, 454, 343, 456],\n",
              " 44: [787, 676, 876, 787]}"
            ]
          },
          "metadata": {
            "tags": []
          },
          "execution_count": 15
        }
      ]
    },
    {
      "cell_type": "code",
      "metadata": {
        "id": "DKroGINr2Jf_",
        "colab": {
          "base_uri": "https://localhost:8080/"
        },
        "outputId": "d9dad6bd-f20f-41c0-d01c-b332d99bfcbf"
      },
      "source": [
        "dic4.keys() # retorna a lista com todas as chaves"
      ],
      "execution_count": null,
      "outputs": [
        {
          "output_type": "execute_result",
          "data": {
            "text/plain": [
              "dict_keys([11, 22, 33, 44])"
            ]
          },
          "metadata": {
            "tags": []
          },
          "execution_count": 16
        }
      ]
    },
    {
      "cell_type": "code",
      "metadata": {
        "id": "T4H4mTtn3ndw",
        "colab": {
          "base_uri": "https://localhost:8080/"
        },
        "outputId": "6856579d-85d7-4c0f-e301-af3942991f98"
      },
      "source": [
        "dic4.values() # #retorna a lista com todos os valores"
      ],
      "execution_count": null,
      "outputs": [
        {
          "output_type": "execute_result",
          "data": {
            "text/plain": [
              "dict_values([[343, 565, 675, 566], [334, 545, 676, 676], [343, 454, 343, 456], [787, 676, 876, 787]])"
            ]
          },
          "metadata": {
            "tags": []
          },
          "execution_count": 17
        }
      ]
    },
    {
      "cell_type": "code",
      "metadata": {
        "id": "qMGbXDUs3uxo",
        "colab": {
          "base_uri": "https://localhost:8080/"
        },
        "outputId": "50b98202-89bc-417d-8c72-e9a555bfe3f6"
      },
      "source": [
        "type(dic4.keys()) #tipo dos dados "
      ],
      "execution_count": null,
      "outputs": [
        {
          "output_type": "execute_result",
          "data": {
            "text/plain": [
              "dict_keys"
            ]
          },
          "metadata": {
            "tags": []
          },
          "execution_count": 18
        }
      ]
    },
    {
      "cell_type": "code",
      "metadata": {
        "id": "WMFjNH5or0_D"
      },
      "source": [
        "dic.update(dic2) # atribuindo os valores dos dicionários criados ao dicionário dic\n",
        "dic.update(dic3) \n",
        "dic.update(dic4)"
      ],
      "execution_count": null,
      "outputs": []
    },
    {
      "cell_type": "code",
      "metadata": {
        "id": "w48YtjWHsq06",
        "colab": {
          "base_uri": "https://localhost:8080/"
        },
        "outputId": "0f729b2f-ef11-4e8b-f8ed-664b99f66f7a"
      },
      "source": [
        "dic"
      ],
      "execution_count": null,
      "outputs": [
        {
          "output_type": "execute_result",
          "data": {
            "text/plain": [
              "{1: 332,\n",
              " 11: [343, 565, 675, 566],\n",
              " 2: 553,\n",
              " 22: [334, 545, 676, 676],\n",
              " 3: 345,\n",
              " 33: [343, 454, 343, 456],\n",
              " 4: 346,\n",
              " 44: [787, 676, 876, 787],\n",
              " 'list1': ['vitor', 'maria', 'niki', 'edilson'],\n",
              " 'list2': ['fran', 'tata', 'lucas', 'tureli'],\n",
              " 'list3': ['marcos', 'naty', 'jessica', 'portao'],\n",
              " 'list4': ['lizias', 'jesus', 'joarez', 'mayra'],\n",
              " 'valo1': 'vitor',\n",
              " 'valo2': 'monique',\n",
              " 'valo3': 'lais',\n",
              " 'valo4': 'natalha'}"
            ]
          },
          "metadata": {
            "tags": []
          },
          "execution_count": 20
        }
      ]
    },
    {
      "cell_type": "code",
      "metadata": {
        "id": "tNjpd2b_DAA-"
      },
      "source": [
        "dic_all = list(dic.items()) # fazendo um cast mudando de dicionario para lista retornando chave e valor"
      ],
      "execution_count": null,
      "outputs": []
    },
    {
      "cell_type": "code",
      "metadata": {
        "id": "kV2LdVNXtO45",
        "colab": {
          "base_uri": "https://localhost:8080/"
        },
        "outputId": "883f5778-a20c-43fd-bb52-fbabf6fb5618"
      },
      "source": [
        "dic_all"
      ],
      "execution_count": null,
      "outputs": [
        {
          "output_type": "execute_result",
          "data": {
            "text/plain": [
              "[('valo1', 'vitor'),\n",
              " ('valo2', 'monique'),\n",
              " ('valo3', 'lais'),\n",
              " ('valo4', 'natalha'),\n",
              " (1, 332),\n",
              " (2, 553),\n",
              " (3, 345),\n",
              " (4, 346),\n",
              " ('list1', ['vitor', 'maria', 'niki', 'edilson']),\n",
              " ('list2', ['fran', 'tata', 'lucas', 'tureli']),\n",
              " ('list3', ['marcos', 'naty', 'jessica', 'portao']),\n",
              " ('list4', ['lizias', 'jesus', 'joarez', 'mayra']),\n",
              " (11, [343, 565, 675, 566]),\n",
              " (22, [334, 545, 676, 676]),\n",
              " (33, [343, 454, 343, 456]),\n",
              " (44, [787, 676, 876, 787])]"
            ]
          },
          "metadata": {
            "tags": []
          },
          "execution_count": 22
        }
      ]
    },
    {
      "cell_type": "code",
      "metadata": {
        "id": "Q7R8yUzSNQK6",
        "colab": {
          "base_uri": "https://localhost:8080/"
        },
        "outputId": "9dad3868-2ca8-4b22-d39a-7886b74b1c09"
      },
      "source": [
        "type(dic_all) # verificando tipo de variável "
      ],
      "execution_count": null,
      "outputs": [
        {
          "output_type": "execute_result",
          "data": {
            "text/plain": [
              "list"
            ]
          },
          "metadata": {
            "tags": []
          },
          "execution_count": 25
        }
      ]
    },
    {
      "cell_type": "code",
      "metadata": {
        "id": "vDiFBZTAQEqr",
        "colab": {
          "base_uri": "https://localhost:8080/"
        },
        "outputId": "eef97031-4bf0-4498-cb2a-46e8f2bdaf38"
      },
      "source": [
        "for k, v in dic_all: \n",
        "  print('result-chave: ', k, 'result-valor: ', v)"
      ],
      "execution_count": null,
      "outputs": [
        {
          "output_type": "stream",
          "text": [
            "result-chave:  valo1 result-valor:  vitor\n",
            "result-chave:  valo2 result-valor:  monique\n",
            "result-chave:  valo3 result-valor:  lais\n",
            "result-chave:  valo4 result-valor:  natalha\n",
            "result-chave:  1 result-valor:  332\n",
            "result-chave:  2 result-valor:  553\n",
            "result-chave:  3 result-valor:  345\n",
            "result-chave:  4 result-valor:  346\n",
            "result-chave:  list1 result-valor:  ['vitor', 'maria', 'niki', 'edilson']\n",
            "result-chave:  list2 result-valor:  ['fran', 'tata', 'lucas', 'tureli']\n",
            "result-chave:  list3 result-valor:  ['marcos', 'naty', 'jessica', 'portao']\n",
            "result-chave:  list4 result-valor:  ['lizias', 'jesus', 'joarez', 'mayra']\n",
            "result-chave:  11 result-valor:  [343, 565, 675, 566]\n",
            "result-chave:  22 result-valor:  [334, 545, 676, 676]\n",
            "result-chave:  33 result-valor:  [343, 454, 343, 456]\n",
            "result-chave:  44 result-valor:  [787, 676, 876, 787]\n"
          ],
          "name": "stdout"
        }
      ]
    },
    {
      "cell_type": "markdown",
      "metadata": {
        "id": "JIou_w2jWivh"
      },
      "source": [
        "Arquivos:"
      ]
    },
    {
      "cell_type": "code",
      "metadata": {
        "id": "Eb8N-DnGWdAM",
        "outputId": "af2955b8-54d9-4b4a-969a-05f178cfdd25",
        "colab": {
          "base_uri": "https://localhost:8080/"
        }
      },
      "source": [
        "from google.colab import drive # \n",
        "drive.mount('/content/drive')"
      ],
      "execution_count": 29,
      "outputs": [
        {
          "output_type": "stream",
          "text": [
            "Mounted at /content/drive\n"
          ],
          "name": "stdout"
        }
      ]
    },
    {
      "cell_type": "code",
      "metadata": {
        "id": "SaMrkiXDXlII"
      },
      "source": [
        "x = open(\"\", 'r') # o 'r' é para ler o arquivo"
      ],
      "execution_count": null,
      "outputs": []
    }
  ]
}