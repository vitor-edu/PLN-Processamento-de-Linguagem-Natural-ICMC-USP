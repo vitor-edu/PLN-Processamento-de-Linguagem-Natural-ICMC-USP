{
  "nbformat": 4,
  "nbformat_minor": 0,
  "metadata": {
    "colab": {
      "name": "Aula_3_ Tuplas_Dicionário _Arquivos.ipynb",
      "provenance": [],
      "collapsed_sections": [],
      "authorship_tag": "ABX9TyN4n07chkIfwsHQCbDRmlz2",
      "include_colab_link": true
    },
    "kernelspec": {
      "name": "python3",
      "display_name": "Python 3"
    },
    "language_info": {
      "name": "python"
    }
  },
  "cells": [
    {
      "cell_type": "markdown",
      "metadata": {
        "id": "view-in-github",
        "colab_type": "text"
      },
      "source": [
        "<a href=\"https://colab.research.google.com/github/vitor-edu/Python-para-Processamento-de-Linguagem-Natural-ICMC-USP/blob/main/Aula_3__Tuplas_Dicion%C3%A1rio__Arquivos.ipynb\" target=\"_parent\"><img src=\"https://colab.research.google.com/assets/colab-badge.svg\" alt=\"Open In Colab\"/></a>"
      ]
    },
    {
      "cell_type": "markdown",
      "metadata": {
        "id": "xhkge1R2TUUy"
      },
      "source": [
        "Tupla"
      ]
    },
    {
      "cell_type": "code",
      "metadata": {
        "id": "qwEnzoEDR2RD"
      },
      "source": [
        "tupla = (32, 'vitor', 34, 'testando tupla', 45, 'abc', 33) # criando uma tupla com tipos diferentes"
      ],
      "execution_count": 31,
      "outputs": []
    },
    {
      "cell_type": "code",
      "metadata": {
        "colab": {
          "base_uri": "https://localhost:8080/"
        },
        "id": "hakR5WaHSkv2",
        "outputId": "8fd586c8-4eed-4b17-928a-a0e28c7e058f"
      },
      "source": [
        "tupla"
      ],
      "execution_count": 32,
      "outputs": [
        {
          "output_type": "execute_result",
          "data": {
            "text/plain": [
              "(32, 'vitor', 34, 'testando tupla', 45, 'abc', 33)"
            ]
          },
          "metadata": {
            "tags": []
          },
          "execution_count": 32
        }
      ]
    },
    {
      "cell_type": "code",
      "metadata": {
        "colab": {
          "base_uri": "https://localhost:8080/",
          "height": 35
        },
        "id": "4yWSYM7RSvg-",
        "outputId": "87cc17ce-8aa3-4ea2-ffde-ad931c7d853f"
      },
      "source": [
        "tupla[1] # retornando valor na posição 1"
      ],
      "execution_count": 33,
      "outputs": [
        {
          "output_type": "execute_result",
          "data": {
            "application/vnd.google.colaboratory.intrinsic+json": {
              "type": "string"
            },
            "text/plain": [
              "'vitor'"
            ]
          },
          "metadata": {
            "tags": []
          },
          "execution_count": 33
        }
      ]
    },
    {
      "cell_type": "markdown",
      "metadata": {
        "id": "Gq7pCPH6TXVq"
      },
      "source": [
        "Dicionário"
      ]
    },
    {
      "cell_type": "code",
      "metadata": {
        "id": "G4ussNCnTbQA"
      },
      "source": [
        "dic = {} # criando um dicionário vazio"
      ],
      "execution_count": 34,
      "outputs": []
    },
    {
      "cell_type": "code",
      "metadata": {
        "id": "ayTAea5NU4TQ"
      },
      "source": [
        "dic['valo1'] = 'vitor' # atribuindo valor para o dicionário\n",
        "dic['valo2'] = 'monique'\n",
        "dic['valo3'] = 'lais'\n",
        "dic['valo4'] = 'natalha'"
      ],
      "execution_count": 35,
      "outputs": []
    },
    {
      "cell_type": "code",
      "metadata": {
        "colab": {
          "base_uri": "https://localhost:8080/"
        },
        "id": "WfXsN9GEVRMo",
        "outputId": "2a014f29-2886-41a4-cabc-61cf7cbbd943"
      },
      "source": [
        "dic"
      ],
      "execution_count": 36,
      "outputs": [
        {
          "output_type": "execute_result",
          "data": {
            "text/plain": [
              "{'valo1': 'vitor', 'valo2': 'monique', 'valo3': 'lais', 'valo4': 'natalha'}"
            ]
          },
          "metadata": {
            "tags": []
          },
          "execution_count": 36
        }
      ]
    },
    {
      "cell_type": "code",
      "metadata": {
        "id": "2tbSdKKuVcYr"
      },
      "source": [
        "dic2 = {} #criando dicionário vazio"
      ],
      "execution_count": 37,
      "outputs": []
    },
    {
      "cell_type": "code",
      "metadata": {
        "id": "oaB9rL-lWX8v"
      },
      "source": [
        "dic2[1] = 332 # atribuindo valores ao dicionário\n",
        "dic2[2] = 553\n",
        "dic2[3] = 345\n",
        "dic2[4] = 346"
      ],
      "execution_count": 38,
      "outputs": []
    },
    {
      "cell_type": "code",
      "metadata": {
        "colab": {
          "base_uri": "https://localhost:8080/"
        },
        "id": "h_IO-MPsWoGL",
        "outputId": "2b775e49-abee-499f-e929-48f8548c29ac"
      },
      "source": [
        "dic2"
      ],
      "execution_count": 39,
      "outputs": [
        {
          "output_type": "execute_result",
          "data": {
            "text/plain": [
              "{1: 332, 2: 553, 3: 345, 4: 346}"
            ]
          },
          "metadata": {
            "tags": []
          },
          "execution_count": 39
        }
      ]
    },
    {
      "cell_type": "code",
      "metadata": {
        "id": "Uw2IbtsAWvWB"
      },
      "source": [
        "dic3 = {} # criando dicionario vazio"
      ],
      "execution_count": 40,
      "outputs": []
    },
    {
      "cell_type": "code",
      "metadata": {
        "id": "ELYUpCMSXCSH"
      },
      "source": [
        "dic3['list1'] = ['vitor','maria','niki','edilson'] #atribuindo um valor tipo lista para o dicionario\n",
        "dic3['list2'] = ['fran','tata','lucas','tureli']\n",
        "dic3['list3'] = ['marcos','naty','jessica','portao']\n",
        "dic3['list4'] = ['lizias','jesus','joarez','mayra']"
      ],
      "execution_count": 41,
      "outputs": []
    },
    {
      "cell_type": "code",
      "metadata": {
        "colab": {
          "base_uri": "https://localhost:8080/"
        },
        "id": "7exvdmxuXyM9",
        "outputId": "cdfe5dac-be9a-4790-f328-e944f1b50a5e"
      },
      "source": [
        "dic3"
      ],
      "execution_count": 42,
      "outputs": [
        {
          "output_type": "execute_result",
          "data": {
            "text/plain": [
              "{'list1': ['vitor', 'maria', 'niki', 'edilson'],\n",
              " 'list2': ['fran', 'tata', 'lucas', 'tureli'],\n",
              " 'list3': ['marcos', 'naty', 'jessica', 'portao'],\n",
              " 'list4': ['lizias', 'jesus', 'joarez', 'mayra']}"
            ]
          },
          "metadata": {
            "tags": []
          },
          "execution_count": 42
        }
      ]
    },
    {
      "cell_type": "code",
      "metadata": {
        "id": "7ndIT3RnbFYL"
      },
      "source": [
        "dic4 = {} # criando um dicionário vazio"
      ],
      "execution_count": 43,
      "outputs": []
    },
    {
      "cell_type": "code",
      "metadata": {
        "id": "_diJciy8bOO2"
      },
      "source": [
        "dic4[11] = [343, 565, 675, 566] #atribuindo um valor tipo lista para o dicionario\n",
        "dic4[22] = [334, 545, 676, 676]\n",
        "dic4[33] = [343, 454, 343, 456]\n",
        "dic4[44] = [787, 676, 876, 787]"
      ],
      "execution_count": 44,
      "outputs": []
    },
    {
      "cell_type": "code",
      "metadata": {
        "colab": {
          "base_uri": "https://localhost:8080/"
        },
        "id": "1_Ogu1gOcNBJ",
        "outputId": "9ac221d5-308a-4957-9ef9-c34230f4ea35"
      },
      "source": [
        "dic4"
      ],
      "execution_count": 45,
      "outputs": [
        {
          "output_type": "execute_result",
          "data": {
            "text/plain": [
              "{11: [343, 565, 675, 566],\n",
              " 22: [334, 545, 676, 676],\n",
              " 33: [343, 454, 343, 456],\n",
              " 44: [787, 676, 876, 787]}"
            ]
          },
          "metadata": {
            "tags": []
          },
          "execution_count": 45
        }
      ]
    },
    {
      "cell_type": "code",
      "metadata": {
        "id": "DKroGINr2Jf_",
        "colab": {
          "base_uri": "https://localhost:8080/"
        },
        "outputId": "463500c6-e0f5-43df-9971-ad0441e7bdd5"
      },
      "source": [
        "dic4.keys() # retorna a lista com todas as chaves"
      ],
      "execution_count": 46,
      "outputs": [
        {
          "output_type": "execute_result",
          "data": {
            "text/plain": [
              "dict_keys([11, 22, 33, 44])"
            ]
          },
          "metadata": {
            "tags": []
          },
          "execution_count": 46
        }
      ]
    },
    {
      "cell_type": "code",
      "metadata": {
        "id": "T4H4mTtn3ndw",
        "colab": {
          "base_uri": "https://localhost:8080/"
        },
        "outputId": "bf87758c-8b03-4bd3-8d09-cd75eed88aa6"
      },
      "source": [
        "dic4.values() # #retorna a lista com todos os valores"
      ],
      "execution_count": 47,
      "outputs": [
        {
          "output_type": "execute_result",
          "data": {
            "text/plain": [
              "dict_values([[343, 565, 675, 566], [334, 545, 676, 676], [343, 454, 343, 456], [787, 676, 876, 787]])"
            ]
          },
          "metadata": {
            "tags": []
          },
          "execution_count": 47
        }
      ]
    },
    {
      "cell_type": "code",
      "metadata": {
        "id": "qMGbXDUs3uxo",
        "colab": {
          "base_uri": "https://localhost:8080/"
        },
        "outputId": "06ebef1f-3e1a-4f4f-897b-4c5259633134"
      },
      "source": [
        "type(dic4.keys()) #tipo dos dados "
      ],
      "execution_count": 48,
      "outputs": [
        {
          "output_type": "execute_result",
          "data": {
            "text/plain": [
              "dict_keys"
            ]
          },
          "metadata": {
            "tags": []
          },
          "execution_count": 48
        }
      ]
    },
    {
      "cell_type": "code",
      "metadata": {
        "id": "WMFjNH5or0_D"
      },
      "source": [
        "dic.update(dic2) # atribuindo os valores dos dicionários criados ao dicionário dic\n",
        "dic.update(dic3) \n",
        "dic.update(dic4)"
      ],
      "execution_count": 66,
      "outputs": []
    },
    {
      "cell_type": "code",
      "metadata": {
        "id": "w48YtjWHsq06",
        "outputId": "b3614125-6ede-4001-8454-e821aa697afe",
        "colab": {
          "base_uri": "https://localhost:8080/"
        }
      },
      "source": [
        "dic"
      ],
      "execution_count": 64,
      "outputs": [
        {
          "output_type": "execute_result",
          "data": {
            "text/plain": [
              "{1: 332,\n",
              " 11: [343, 565, 675, 566],\n",
              " 2: 553,\n",
              " 22: [334, 545, 676, 676],\n",
              " 3: 345,\n",
              " 33: [343, 454, 343, 456],\n",
              " 4: 346,\n",
              " 44: [787, 676, 876, 787],\n",
              " 'list1': ['vitor', 'maria', 'niki', 'edilson'],\n",
              " 'list2': ['fran', 'tata', 'lucas', 'tureli'],\n",
              " 'list3': ['marcos', 'naty', 'jessica', 'portao'],\n",
              " 'list4': ['lizias', 'jesus', 'joarez', 'mayra'],\n",
              " 'valo1': 'vitor',\n",
              " 'valo2': 'monique',\n",
              " 'valo3': 'lais',\n",
              " 'valo4': 'natalha'}"
            ]
          },
          "metadata": {
            "tags": []
          },
          "execution_count": 64
        }
      ]
    },
    {
      "cell_type": "code",
      "metadata": {
        "id": "tNjpd2b_DAA-"
      },
      "source": [
        "dic_all = list(dic.items()) # fazendo um cast mudando de dicionario para lista retornando chave e valor"
      ],
      "execution_count": 69,
      "outputs": []
    },
    {
      "cell_type": "code",
      "metadata": {
        "id": "kV2LdVNXtO45",
        "outputId": "29d98a03-eab4-4bbb-8c3a-484efa9cb950",
        "colab": {
          "base_uri": "https://localhost:8080/"
        }
      },
      "source": [
        "dic_all"
      ],
      "execution_count": 70,
      "outputs": [
        {
          "output_type": "execute_result",
          "data": {
            "text/plain": [
              "[('valo1', 'vitor'),\n",
              " ('valo2', 'monique'),\n",
              " ('valo3', 'lais'),\n",
              " ('valo4', 'natalha'),\n",
              " (1, 332),\n",
              " (2, 553),\n",
              " (3, 345),\n",
              " (4, 346),\n",
              " ('list1', ['vitor', 'maria', 'niki', 'edilson']),\n",
              " ('list2', ['fran', 'tata', 'lucas', 'tureli']),\n",
              " ('list3', ['marcos', 'naty', 'jessica', 'portao']),\n",
              " ('list4', ['lizias', 'jesus', 'joarez', 'mayra']),\n",
              " (11, [343, 565, 675, 566]),\n",
              " (22, [334, 545, 676, 676]),\n",
              " (33, [343, 454, 343, 456]),\n",
              " (44, [787, 676, 876, 787])]"
            ]
          },
          "metadata": {
            "tags": []
          },
          "execution_count": 70
        }
      ]
    }
  ]
}