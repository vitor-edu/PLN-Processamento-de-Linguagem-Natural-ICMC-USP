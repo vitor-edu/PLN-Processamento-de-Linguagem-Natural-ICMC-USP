{
  "nbformat": 4,
  "nbformat_minor": 0,
  "metadata": {
    "colab": {
      "name": "Aula 1 Listas - comando de Python.ipynb",
      "provenance": [],
      "collapsed_sections": [],
      "authorship_tag": "ABX9TyNAsMfRSmbAHDQuPMQXkSDE",
      "include_colab_link": true
    },
    "kernelspec": {
      "name": "python3",
      "display_name": "Python 3"
    }
  },
  "cells": [
    {
      "cell_type": "markdown",
      "metadata": {
        "id": "view-in-github",
        "colab_type": "text"
      },
      "source": [
        "<a href=\"https://colab.research.google.com/github/vitor-edu/Python-para-Processamento-de-Linguagem-Natural-ICMC-USP/blob/main/Aula_1_Listas_comando_de_Python.ipynb\" target=\"_parent\"><img src=\"https://colab.research.google.com/assets/colab-badge.svg\" alt=\"Open In Colab\"/></a>"
      ]
    },
    {
      "cell_type": "markdown",
      "metadata": {
        "id": "3A9jPIjl0AKb"
      },
      "source": [
        "range"
      ]
    },
    {
      "cell_type": "code",
      "metadata": {
        "colab": {
          "base_uri": "https://localhost:8080/"
        },
        "id": "ux_Pk943gpsL",
        "outputId": "a336b6bc-7b6c-4d56-bfae-c4bdbcb19723"
      },
      "source": [
        "l = list(range(5)) # comando range criar uma sequência numerica com um numero especificado\n",
        "l"
      ],
      "execution_count": 2,
      "outputs": [
        {
          "output_type": "execute_result",
          "data": {
            "text/plain": [
              "[0, 1, 2, 3, 4]"
            ]
          },
          "metadata": {
            "tags": []
          },
          "execution_count": 2
        }
      ]
    },
    {
      "cell_type": "markdown",
      "metadata": {
        "id": "6jFnvdVY0E8j"
      },
      "source": [
        "append"
      ]
    },
    {
      "cell_type": "code",
      "metadata": {
        "colab": {
          "base_uri": "https://localhost:8080/"
        },
        "id": "AWgA1JQb1WzB",
        "outputId": "2637dc23-c959-465a-b1b8-01c50ffa9f38"
      },
      "source": [
        "l.append(5) # comando append insere o objeto no final da lista \n",
        "l"
      ],
      "execution_count": 3,
      "outputs": [
        {
          "output_type": "execute_result",
          "data": {
            "text/plain": [
              "[0, 1, 2, 3, 4, 5]"
            ]
          },
          "metadata": {
            "tags": []
          },
          "execution_count": 3
        }
      ]
    },
    {
      "cell_type": "markdown",
      "metadata": {
        "id": "RiYK0liM0IY4"
      },
      "source": [
        "insert"
      ]
    },
    {
      "cell_type": "code",
      "metadata": {
        "colab": {
          "base_uri": "https://localhost:8080/"
        },
        "id": "tMvq8IVn1wIB",
        "outputId": "acb908c0-5163-4230-e6e6-88dd977ca7e6"
      },
      "source": [
        "l.insert(4,9) # insere o elemento na posição requerida.\n",
        "l "
      ],
      "execution_count": 4,
      "outputs": [
        {
          "output_type": "execute_result",
          "data": {
            "text/plain": [
              "[0, 1, 2, 3, 9, 4, 5]"
            ]
          },
          "metadata": {
            "tags": []
          },
          "execution_count": 4
        }
      ]
    },
    {
      "cell_type": "code",
      "metadata": {
        "colab": {
          "base_uri": "https://localhost:8080/"
        },
        "id": "DhCwhytz3zOr",
        "outputId": "a386beed-ed7d-4aba-c6d7-5b201f6a3c58"
      },
      "source": [
        "l.insert(7,6)\n",
        "l"
      ],
      "execution_count": 5,
      "outputs": [
        {
          "output_type": "execute_result",
          "data": {
            "text/plain": [
              "[0, 1, 2, 3, 9, 4, 5, 6]"
            ]
          },
          "metadata": {
            "tags": []
          },
          "execution_count": 5
        }
      ]
    },
    {
      "cell_type": "markdown",
      "metadata": {
        "id": "yE_LhoYV0Lro"
      },
      "source": [
        "reverse"
      ]
    },
    {
      "cell_type": "code",
      "metadata": {
        "id": "vBgql4pU2nF8",
        "outputId": "621fdbd1-dfe2-4a54-d666-fa77785057fd",
        "colab": {
          "base_uri": "https://localhost:8080/"
        }
      },
      "source": [
        "l.reverse() # inverte a ordem da lista\n",
        "l "
      ],
      "execution_count": 6,
      "outputs": [
        {
          "output_type": "execute_result",
          "data": {
            "text/plain": [
              "[6, 5, 4, 9, 3, 2, 1, 0]"
            ]
          },
          "metadata": {
            "tags": []
          },
          "execution_count": 6
        }
      ]
    },
    {
      "cell_type": "markdown",
      "metadata": {
        "id": "N9r35dC80PBQ"
      },
      "source": [
        "sort"
      ]
    },
    {
      "cell_type": "code",
      "metadata": {
        "id": "8-2eDpv00woh",
        "outputId": "bdccc780-c377-4bbc-b88b-6acab98fbada",
        "colab": {
          "base_uri": "https://localhost:8080/"
        }
      },
      "source": [
        "l.sort() #ordena os elementos \n",
        "l "
      ],
      "execution_count": 7,
      "outputs": [
        {
          "output_type": "execute_result",
          "data": {
            "text/plain": [
              "[0, 1, 2, 3, 4, 5, 6, 9]"
            ]
          },
          "metadata": {
            "tags": []
          },
          "execution_count": 7
        }
      ]
    }
  ]
}